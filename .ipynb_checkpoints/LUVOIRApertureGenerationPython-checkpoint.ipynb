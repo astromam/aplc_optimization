{
 "cells": [
  {
   "cell_type": "code",
   "execution_count": 1,
   "metadata": {},
   "outputs": [],
   "source": [
    "%matplotlib qt\n",
    "from hcipy import *\n",
    "import numpy as np\n",
    "import matplotlib.pyplot as plt\n",
    "from astropy.io import fits"
   ]
  },
  {
   "cell_type": "code",
   "execution_count": 2,
   "metadata": {},
   "outputs": [],
   "source": [
    "supersampling = 4"
   ]
  },
  {
   "cell_type": "markdown",
   "metadata": {},
   "source": [
    "# P2 - LUVOIR Aperture"
   ]
  },
  {
   "cell_type": "code",
   "execution_count": 3,
   "metadata": {},
   "outputs": [],
   "source": [
    "grid = make_pupil_grid(1024)"
   ]
  },
  {
   "cell_type": "code",
   "execution_count": 4,
   "metadata": {},
   "outputs": [],
   "source": [
    "LUVOIR = make_luvoir_a_aperture(normalized=True, with_spiders=True, with_segment_gaps=True, segment_transmissions=1)\n",
    "pupil = evaluate_supersampled(LUVOIR,grid,supersampling)"
   ]
  },
  {
   "cell_type": "code",
   "execution_count": 5,
   "metadata": {},
   "outputs": [],
   "source": [
    "plt.figure()\n",
    "plt.title('Test LUVOIR aperture')\n",
    "imshow_field(pupil)\n",
    "plt.show()"
   ]
  },
  {
   "cell_type": "code",
   "execution_count": 6,
   "metadata": {},
   "outputs": [],
   "source": [
    "#need to stick aperture geometry input into fits header"
   ]
  },
  {
   "cell_type": "code",
   "execution_count": 7,
   "metadata": {},
   "outputs": [],
   "source": [
    "hdr = fits.header.Header()\n",
    "fits.writeto('Test_LUVOIR_1024_2cm_gaps_10cm_strut_gy.fits', pupil.shaped, hdr, clobber=True)"
   ]
  },
  {
   "cell_type": "code",
   "execution_count": 8,
   "metadata": {},
   "outputs": [],
   "source": [
    "#imshow_field(own_apod - mathematica_apod)\n",
    "#plt.show()"
   ]
  },
  {
   "cell_type": "code",
   "execution_count": 9,
   "metadata": {},
   "outputs": [],
   "source": [
    "#plt.subplot(1,2,1)\n",
    "#imshow_field(own_apod, cmap='gray')\n",
    "#plt.subplot(1,2,2)\n",
    "#imshow_field(own_lyot, cmap='gray')\n",
    "#plt.show()"
   ]
  },
  {
   "cell_type": "markdown",
   "metadata": {},
   "source": [
    "## Lyot Stop"
   ]
  },
  {
   "cell_type": "markdown",
   "metadata": {},
   "source": [
    "Inner LS - > 0.19\n",
    "Outer LS -> 0.937\n",
    "\n",
    "Relative to circular aperture Kevin used in MCMC stuff\n",
    "\n",
    "LUVOIR inscribed circle -> 13.7 m"
   ]
  },
  {
   "cell_type": "code",
   "execution_count": 21,
   "metadata": {},
   "outputs": [],
   "source": [
    "def lyot_stop(normalized=True,spiders=False):\n",
    "    \n",
    "    outer_D = 13.7*0.937\n",
    "    inner_D = 13.8*0.19\n",
    "    spider_width = 0.10 #m\n",
    "    \n",
    "    if normalized:\n",
    "        outer_D /= 15.2\n",
    "        inner_D /= 15.2\n",
    "        spider_width /= 15.2\n",
    "        \n",
    "    spid_oversize = 2\n",
    "    \n",
    "    outer_diameter = circular_aperture(outer_D)\n",
    "    central_obscuration = circular_aperture(inner_D)\n",
    "    \n",
    "    \n",
    "    \n",
    "    if spiders:\n",
    "        spider1 = make_spider_infinite([0, 0], 90, spid_oversize*spider_width)\n",
    "        spider2 = make_spider_infinite([0, 0], 255, spid_oversize*spider_width)\n",
    "        spider3 = make_spider_infinite([0, 0], 285, spid_oversize*spider_width)\n",
    "        spider_multiply = spider1(grid) * spider2(grid) * spider3(grid)\n",
    "    \n",
    "    spider_multiply = 1\n",
    "    \n",
    "    def aper(grid):\n",
    "        return (outer_diameter(grid) - central_obscuration(grid)) * spider_multiply\n",
    "    return aper"
   ]
  },
  {
   "cell_type": "code",
   "execution_count": 22,
   "metadata": {},
   "outputs": [],
   "source": [
    "lyot_stop = evaluate_supersampled(lyot_stop(True,False), grid, supersampling)"
   ]
  },
  {
   "cell_type": "code",
   "execution_count": 23,
   "metadata": {},
   "outputs": [],
   "source": [
    "plt.figure()\n",
    "plt.title('Test LUVOIR LS')\n",
    "imshow_field(lyot_stop)\n",
    "plt.show()"
   ]
  },
  {
   "cell_type": "code",
   "execution_count": 24,
   "metadata": {},
   "outputs": [],
   "source": [
    "hdr = fits.header.Header()\n",
    "fits.writeto('Test_LUVOIR_LS_1024_gy.fits', lyot_stop.shaped, hdr, clobber=True)"
   ]
  },
  {
   "cell_type": "code",
   "execution_count": 25,
   "metadata": {},
   "outputs": [],
   "source": [
    "plt.figure()\n",
    "plt.title('Test LUVOIR pupil - LS')\n",
    "imshow_field(pupil-lyot_stop)\n",
    "plt.show()"
   ]
  },
  {
   "cell_type": "code",
   "execution_count": null,
   "metadata": {},
   "outputs": [],
   "source": []
  }
 ],
 "metadata": {
  "kernelspec": {
   "display_name": "Python 2",
   "language": "python",
   "name": "python2"
  },
  "language_info": {
   "codemirror_mode": {
    "name": "ipython",
    "version": 2
   },
   "file_extension": ".py",
   "mimetype": "text/x-python",
   "name": "python",
   "nbconvert_exporter": "python",
   "pygments_lexer": "ipython2",
   "version": "2.7.16"
  }
 },
 "nbformat": 4,
 "nbformat_minor": 2
}
