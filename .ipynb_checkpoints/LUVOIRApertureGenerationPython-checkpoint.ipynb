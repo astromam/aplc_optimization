{
 "cells": [
  {
   "cell_type": "markdown",
   "metadata": {},
   "source": [
    "## Package imports"
   ]
  },
  {
   "cell_type": "code",
   "execution_count": 1,
   "metadata": {},
   "outputs": [],
   "source": [
    "#%matplotlib qt\n",
    "%matplotlib inline\n",
    "from hcipy import *\n",
    "import numpy as np\n",
    "import matplotlib.pyplot as plt\n",
    "from astropy.io import fits"
   ]
  },
  {
   "cell_type": "markdown",
   "metadata": {},
   "source": [
    "## Parameters"
   ]
  },
  {
   "cell_type": "code",
   "execution_count": 2,
   "metadata": {},
   "outputs": [],
   "source": [
    "N = 512"
   ]
  },
  {
   "cell_type": "markdown",
   "metadata": {},
   "source": [
    "### Aperture parameters"
   ]
  },
  {
   "cell_type": "code",
   "execution_count": 3,
   "metadata": {},
   "outputs": [],
   "source": [
    "gap_padding  = 5   #arbitratry padding of gap size to represent gaps on smaller arrays \n",
    "                   #effectively makes the gaps larger and the segments smaller to preserve \n",
    "                   #the same segment pitch        \n",
    "N            = 512 #Number of pixels in aperture, lyot stop, apodizer array\n",
    "pup_oversamp = 1   #oversampling factor in evaluate_supersampled [hcipy/field/util.py]. \n",
    "                   #If set to 1 returns bw pupil. For gray set to > 1, nominally set to 4 (4 grey levels)"
   ]
  },
  {
   "cell_type": "code",
   "execution_count": 4,
   "metadata": {},
   "outputs": [],
   "source": [
    "#black and white or grey pixels\n",
    "if pup_oversamp == 1:\n",
    "    pup_edge = 'bw'\n",
    "elif pup_oversamp > 1:\n",
    "    pup_edge = 'gy'"
   ]
  },
  {
   "cell_type": "markdown",
   "metadata": {},
   "source": [
    "### Lyot Stop parameters"
   ]
  },
  {
   "cell_type": "code",
   "execution_count": 5,
   "metadata": {},
   "outputs": [],
   "source": [
    "ls_id         = 0.19  #lyot stop inner diameter, realtive to inscribed circle\n",
    "ls_od         = 0.937 #lyot stop outer diameter, relative to inscribed circle\n",
    "spiders       = False     #flag for inclustion (1) or exclusion (0) of struts in lyot stop\n",
    "spid_oversize = 2\n",
    "ls_oversamp   = 1"
   ]
  },
  {
   "cell_type": "code",
   "execution_count": 6,
   "metadata": {},
   "outputs": [],
   "source": [
    "#filename key for struts or no struts\n",
    "if spiders:\n",
    "    strut_key = 'Struts'\n",
    "else:\n",
    "    strut_key = 'NoStruts'\n",
    "    \n",
    "#black and white or grey pixels\n",
    "if ls_oversamp == 1:\n",
    "    ls_edge = 'bw'\n",
    "elif ls_oversamp > 1:\n",
    "    ls_edge = 'gy'"
   ]
  },
  {
   "cell_type": "markdown",
   "metadata": {},
   "source": [
    "### Filepath and Filenames"
   ]
  },
  {
   "cell_type": "code",
   "execution_count": 7,
   "metadata": {},
   "outputs": [
    {
     "name": "stdout",
     "output_type": "stream",
     "text": [
      "LS_LUVOIR_ID0190_OD0937_NoStruts_bw_ovsamp1_N0512.fits\n",
      "masks/LUVOIR/TelAp_LUVOIR_gap_pad05_bw_ovsamp01_N0512.fits\n"
     ]
    }
   ],
   "source": [
    "filepath     = 'masks/LUVOIR/'\n",
    "pup_filename = 'TelAp_LUVOIR_gap_pad{0:02d}_{1:s}_ovsamp{2:02d}_N{3:04d}.fits'.format(gap_padding, \\\n",
    "                                                                                      pup_edge,pup_oversamp,N)\n",
    "ls_filename  = 'LS_LUVOIR_ID{0:04d}_OD{1:04d}_{2:s}_{3:s}_ovsamp{4:d}_N{5:04d}.fits'.format(int(ls_id*1000), \\\n",
    "                                                                                            int(ls_od*1000), strut_key, \\\n",
    "                                                                                            ls_edge, ls_oversamp, N)\n",
    "print(ls_filename)\n",
    "print(filepath+pup_filename)"
   ]
  },
  {
   "cell_type": "markdown",
   "metadata": {},
   "source": [
    "### Construct grid"
   ]
  },
  {
   "cell_type": "code",
   "execution_count": 8,
   "metadata": {},
   "outputs": [],
   "source": [
    "grid = make_pupil_grid(N)\n"
   ]
  },
  {
   "cell_type": "markdown",
   "metadata": {},
   "source": [
    "### Construct aperture and lyot stop"
   ]
  },
  {
   "cell_type": "code",
   "execution_count": 9,
   "metadata": {},
   "outputs": [],
   "source": [
    "LUVOIR, aperture_header     = make_luvoir_a_aperture(gap_padding)\n",
    "pupil                       = evaluate_supersampled(LUVOIR,grid,pup_oversamp)\n",
    "lyot_stop                   = evaluate_supersampled(make_luvoir_a_lyot_stop(ls_id, ls_od, spid_oversize, \\\n",
    "                                                                            spiders=spiders), grid, ls_oversamp)"
   ]
  },
  {
   "cell_type": "markdown",
   "metadata": {},
   "source": [
    "### Plot aperture and lyot stop"
   ]
  },
  {
   "cell_type": "code",
   "execution_count": 10,
   "metadata": {},
   "outputs": [
    {
     "data": {
      "image/png": "[encoded data removed]",
      "text/plain": [
       "<Figure size 432x288 with 1 Axes>"
      ]
     },
     "metadata": {
      "needs_background": "light"
     },
     "output_type": "display_data"
    }
   ],
   "source": [
    "plt.figure()\n",
    "plt.title('aperture')\n",
    "imshow_field(pupil)\n",
    "plt.show()"
   ]
  },
  {
   "cell_type": "code",
   "execution_count": 11,
   "metadata": {},
   "outputs": [
    {
     "data": {
      "image/png": "[encoded data removed]",
      "text/plain": [
       "<Figure size 432x288 with 1 Axes>"
      ]
     },
     "metadata": {
      "needs_background": "light"
     },
     "output_type": "display_data"
    }
   ],
   "source": [
    "plt.figure()\n",
    "plt.title('Test LUVOIR LS')\n",
    "imshow_field(lyot_stop)\n",
    "plt.show()"
   ]
  },
  {
   "cell_type": "code",
   "execution_count": 12,
   "metadata": {},
   "outputs": [
    {
     "data": {
      "image/png": "[encoded data removed]",
      "text/plain": [
       "<Figure size 432x288 with 1 Axes>"
      ]
     },
     "metadata": {
      "needs_background": "light"
     },
     "output_type": "display_data"
    }
   ],
   "source": [
    "plt.figure()\n",
    "plt.title('Test LUVOIR pupil - LS')\n",
    "imshow_field(pupil-lyot_stop)\n",
    "plt.show()"
   ]
  },
  {
   "cell_type": "markdown",
   "metadata": {},
   "source": [
    "### Write aperture and lyot stop to fits"
   ]
  },
  {
   "cell_type": "markdown",
   "metadata": {},
   "source": [
    "Aperture"
   ]
  },
  {
   "cell_type": "code",
   "execution_count": 13,
   "metadata": {},
   "outputs": [
    {
     "name": "stderr",
     "output_type": "stream",
     "text": [
      "WARNING: VerifyWarning: Card is too long, comment will be truncated. [astropy.io.fits.card]\n"
     ]
    }
   ],
   "source": [
    "aperture_header['OVERSAMP'] = pup_oversamp\n",
    "aperture_header['EDGE']     = pup_edge\n",
    "\n",
    "hdr = fits.Header()\n",
    "hdr.set('TELESCOP', aperture_header['TELESCOP'])\n",
    "hdr.set('D_CIRC', aperture_header['D_CIRC'],'m: circumscribed diameter')\n",
    "hdr.set('D_INSC',aperture_header['D_INSC'],'m: inscribed diameter')\n",
    "hdr.set('SEG_F2F',aperture_header['SEG_F2F_D'],'m: actual segment flat-to-flat diameter')\n",
    "hdr.set('SEG_GAP',aperture_header['SEG_GAP'],'m: actual gap size between segments')\n",
    "hdr.set('STRUT_W',aperture_header['STRUT_W'],'m: actual support strut width')\n",
    "hdr.set('STRUT_AN',aperture_header['STRUT_AN'],'deg: angle at which lower spiders are offset from vertical')\n",
    "hdr.set('NORM',aperture_header['NORM'],'normalization keyword; If this is True, the outer diameter will be scaled to 1 by the D_circ')\n",
    "hdr.set('SEG_TRAN',aperture_header['SEG_TRAN'],'The transmission for each of the segments')\n",
    "hdr.set('GAP_PAD',aperture_header['GAP_PAD'],'arbitratry padding of gap size to represent gaps on smaller arrays')\n",
    "hdr.set('EDGE',aperture_header['EDGE'],'black and white or grey pixels')\n",
    "hdr.set('OVERSAMP',aperture_header['OVERSAMP'],'oversampling factor, # grey levels')\n",
    "\n",
    "fits.writeto(filepath+pup_filename, pupil.shaped, hdr,clobber=True)"
   ]
  },
  {
   "cell_type": "markdown",
   "metadata": {},
   "source": [
    "Lyot Stop"
   ]
  },
  {
   "cell_type": "code",
   "execution_count": 14,
   "metadata": {},
   "outputs": [],
   "source": [
    "hdr = fits.Header()\n",
    "hdr.set('TELESCOP', aperture_header['TELESCOP'])\n",
    "fits.writeto(filepath+ls_filename, lyot_stop.shaped, hdr, clobber=True)"
   ]
  }
 ],
 "metadata": {
  "kernelspec": {
   "display_name": "Python 2",
   "language": "python",
   "name": "python2"
  },
  "language_info": {
   "codemirror_mode": {
    "name": "ipython",
    "version": 2
   },
   "file_extension": ".py",
   "mimetype": "text/x-python",
   "name": "python",
   "nbconvert_exporter": "python",
   "pygments_lexer": "ipython2",
   "version": "2.7.16"
  }
 },
 "nbformat": 4,
 "nbformat_minor": 2
}
