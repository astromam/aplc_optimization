{
 "cells": [
  {
   "cell_type": "code",
   "execution_count": 1,
   "metadata": {},
   "outputs": [],
   "source": [
    "#%matplotlib qt\n",
    "%matplotlib inline\n",
    "from hcipy import *\n",
    "import numpy as np\n",
    "import matplotlib.pyplot as plt\n",
    "from astropy.io import fits"
   ]
  },
  {
   "cell_type": "code",
   "execution_count": 2,
   "metadata": {},
   "outputs": [
    {
     "name": "stdout",
     "output_type": "stream",
     "text": [
      "0.001692 0.004032 0.001776 0.003916\n"
     ]
    }
   ],
   "source": [
    "# RS: doubled checked 5/22/19\n",
    "# magnification between first plane and considered plane, \n",
    "#dgammaErrFactor in HiCAT_APLCSP_spreadsheet in hicat_aplc repo\n",
    "delta_gamma = 0.004\n",
    "\n",
    "gamma_21 = 0.423\n",
    "delta_gamma_21 = gamma_21 * delta_gamma\n",
    "\n",
    "gamma_31 = 1.008\n",
    "delta_gamma_31 =gamma_31 * delta_gamma\n",
    "\n",
    "gamma_41 = 0.444\n",
    "delta_gamma_41 = gamma_41 * delta_gamma\n",
    "\n",
    "gamma_51 = 0.979\n",
    "delta_gamma_51 = gamma_51 * delta_gamma\n",
    "print(delta_gamma_21,delta_gamma_31,delta_gamma_41,delta_gamma_51)"
   ]
  },
  {
   "cell_type": "markdown",
   "metadata": {},
   "source": [
    "# P2 - Segmented primary mirror "
   ]
  },
  {
   "cell_type": "code",
   "execution_count": 3,
   "metadata": {},
   "outputs": [],
   "source": [
    "# RS: doubled checked 5/22/19"
   ]
  },
  {
   "cell_type": "code",
   "execution_count": 4,
   "metadata": {},
   "outputs": [
    {
     "name": "stdout",
     "output_type": "stream",
     "text": [
      "0.007\n",
      "0.008515867542417507\n",
      "0.008487048957087498\n"
     ]
    }
   ],
   "source": [
    "p2_irisao_segment_size = 1.4e-3 # m (note: point to point)\n",
    "p2_irisao_segment_side_length = p2_irisao_segment_size / 2\n",
    "p2_irisao_segment_gap_size = 12e-6 # m\n",
    "#p2_irisao_segment_gap_size = 1.212e-3/10 # note: creating a DM where gaps = 1/10 segments, tested and working using DS9\n",
    "p2_irisao_inscribed_circle_size = 10 * p2_irisao_segment_side_length\n",
    "p2_irisao_flat_to_flat_size = 14 * np.sqrt(3) / 2 * p2_irisao_segment_side_length\n",
    "p2_irisao_circumscribed_circle_size = np.sqrt(p2_irisao_flat_to_flat_size**2 + p2_irisao_segment_side_length**2)\n",
    "\n",
    "\n",
    "# Spiders\n",
    "p2_pupil_mask_spider_thickness = p2_irisao_segment_gap_size # m\n",
    "\n",
    "print(p2_irisao_inscribed_circle_size)\n",
    "print(p2_irisao_circumscribed_circle_size)\n",
    "print(p2_irisao_flat_to_flat_size)"
   ]
  },
  {
   "cell_type": "code",
   "execution_count": 5,
   "metadata": {},
   "outputs": [
    {
     "name": "stdout",
     "output_type": "stream",
     "text": [
      "0.017142857142857144 0.017142857142857144\n"
     ]
    }
   ],
   "source": [
    "irisao_gap_hexagon_fraction = p2_irisao_segment_gap_size / p2_irisao_segment_side_length\n",
    "print(irisao_gap_hexagon_fraction, 0.012 / 0.7)"
   ]
  },
  {
   "cell_type": "code",
   "execution_count": 6,
   "metadata": {},
   "outputs": [
    {
     "name": "stdout",
     "output_type": "stream",
     "text": [
      "0.001386143593539449\n"
     ]
    }
   ],
   "source": [
    "p2_irisao_distance_between_segments = p2_irisao_segment_side_length * np.sqrt(3)\n",
    "#corrected bug, sqrt(3) replaced by 2/sqrt(3)\n",
    "# tested with this value for gap size==1/10 segment size; p2_irisao_segment_gap_size = 1.212e-3/10 (measurable in DS9)\n",
    "p2_irisao_segment_circumdiameter = (2 * p2_irisao_segment_side_length) - (2/np.sqrt(3)) * p2_irisao_segment_gap_size\n",
    "print(p2_irisao_segment_circumdiameter)\n",
    "\n",
    "def p2_irisao():\n",
    "    segment = hexagonal_aperture(p2_irisao_segment_circumdiameter, np.pi/2)\n",
    "    \n",
    "    segment_positions = make_hexagonal_grid(p2_irisao_distance_between_segments, 3, False)\n",
    "    central_segment = hexagonal_aperture(p2_irisao_segment_size, np.pi / 2)\n",
    "\n",
    "    spider1 = make_spider_infinite([0,0], 60, p2_pupil_mask_spider_thickness)\n",
    "    spider2 = make_spider_infinite([0,0], 120, p2_pupil_mask_spider_thickness)\n",
    "    spider3 = make_spider_infinite([0,0], -60, p2_pupil_mask_spider_thickness)\n",
    "    spider4 = make_spider_infinite([0,0], -120, p2_pupil_mask_spider_thickness)\n",
    "    \n",
    "    aperture = make_segmented_aperture(segment, segment_positions)\n",
    "    aperture_index = make_segmented_aperture(segment, segment_positions, segment_transmissions=np.arange(0,37))\n",
    "    \n",
    "    def aper(grid):\n",
    "        return (aperture(grid) - central_segment(grid)) * spider1(grid) * spider2(grid) * spider3(grid) * spider4(grid)\n",
    "    \n",
    "    def aper_index(grid):\n",
    "        return (aperture_index(grid)) * spider1(grid) * spider2(grid) * spider3(grid) * spider4(grid)\n",
    "    \n",
    "    return aper, aper_index, segment_positions\n"
   ]
  },
  {
   "cell_type": "markdown",
   "metadata": {},
   "source": [
    "# P5 - Lyot stop"
   ]
  },
  {
   "cell_type": "code",
   "execution_count": 7,
   "metadata": {},
   "outputs": [],
   "source": [
    "lyot_stop_size = 0.98*p2_irisao_inscribed_circle_size\n",
    "lyot_stop_central_obstruction = 1.37*p2_irisao_segment_size"
   ]
  },
  {
   "cell_type": "code",
   "execution_count": 8,
   "metadata": {},
   "outputs": [],
   "source": [
    "def p5_lyot_stop():\n",
    "    outer_diameter = circular_aperture(lyot_stop_size)\n",
    "    central_obscuration = circular_aperture(lyot_stop_central_obstruction)\n",
    "    \n",
    "    def aper(grid):\n",
    "        return (outer_diameter(grid) - central_obscuration(grid))\n",
    "    return aper"
   ]
  },
  {
   "cell_type": "code",
   "execution_count": 9,
   "metadata": {},
   "outputs": [
    {
     "data": {
      "image/png": "[encoded data removed]",
      "text/plain": [
       "<Figure size 432x288 with 1 Axes>"
      ]
     },
     "metadata": {
      "needs_background": "light"
     },
     "output_type": "display_data"
    }
   ],
   "source": [
    "# Here the reference is plane P2 - but the largest size of the array is for the Boston DM (largest optic)\n",
    "nPixelAperture = 1000 \n",
    "g = make_pupil_grid(nPixelAperture,p2_irisao_flat_to_flat_size)\n",
    "supersampling = 1\n",
    "\n",
    "telescopePupil = evaluate_supersampled(p2_irisao()[0], g, supersampling)\n",
    "telescopePupil_indexed = evaluate_supersampled(p2_irisao()[1], g, supersampling)\n",
    "segment_positions = p2_irisao()[2]\n",
    "\n",
    "\n",
    "lyot_stop = evaluate_supersampled(p5_lyot_stop(), g, supersampling)\n",
    "\n",
    "hdr_indexed = fits.Header()\n",
    "seg_xys = segment_positions.points\n",
    "for segment in range(seg_xys.shape[0]):\n",
    "    hdr_indexed.set('seg'+str(segment+1)+'_x',segment_positions.x[segment],'x-position segment '+str(segment+1))\n",
    "    hdr_indexed.set('seg' + str(segment + 1) + '_y', segment_positions.y[segment],'y-position segment ' + str(segment + 1))\n",
    "\n",
    "\n",
    "\n",
    "write_fits(telescopePupil, 'masks/PASTIS/telescopePupil_pastis.fits')\n",
    "write_fits(lyot_stop, 'masks/PASTIS/lyot_stop_pastis.fits')\n",
    "fits.writeto('masks/PASTIS/telescopePupil_indexed_pastis.fits', telescopePupil_indexed.shaped, hdr_indexed, overwrite=True)\n",
    "\n",
    "\n",
    "plt.figure()\n",
    "plt.title('aperture')\n",
    "imshow_field(telescopePupil, cmap='gray')\n",
    "plt.show()"
   ]
  },
  {
   "cell_type": "code",
   "execution_count": null,
   "metadata": {},
   "outputs": [],
   "source": []
  }
 ],
 "metadata": {
  "kernelspec": {
   "display_name": "Python 3",
   "language": "python",
   "name": "python3"
  },
  "language_info": {
   "codemirror_mode": {
    "name": "ipython",
    "version": 3
   },
   "file_extension": ".py",
   "mimetype": "text/x-python",
   "name": "python",
   "nbconvert_exporter": "python",
   "pygments_lexer": "ipython3",
   "version": "3.7.3"
  }
 },
 "nbformat": 4,
 "nbformat_minor": 2
}
