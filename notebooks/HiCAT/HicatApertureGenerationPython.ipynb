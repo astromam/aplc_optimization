{
 "cells": [
  {
   "cell_type": "markdown",
   "metadata": {},
   "source": [
    "# HiCAT Aperture Generation Notebook\n",
    "<a id=\"top\"></a>\n",
    "\n",
    "### Optical design\n",
    " - An entrance **[Pupil Mask](#pupil-mask)** *(P1)* with central obstruction and spiders to define an aperture shape.\n",
    " - A 37-segment **[Iris-AO](#iris-ao)** *(P2)* MEMs deformable mirror with 1.4 mm (vertex to vertex) hexagonal segments controllable in tip, tilt, and piston, conjugated to the entrance pupil to provide a pupil with complex geometry. \n",
    " - A diffraction suppression system based on the architecture of the apodized pupil Lyot coronagraph (APLC), which includes an **[apodizer](#apodizer)** *(P3)*, a reflective focal plane mask (FPM) and a **[Lyot stop](#lyot-stop)** *(P5)*. \n",
    " - A **[Boston deformable mirror](#dm)** *(P4)* for both wavefront control (correction of the re- sidual aberrations) and wavefront shaping (generation of a dark hole inside the PSF). This DM shows 33 actuators across the 9.9mm lateral dimension. \n",
    " \n",
    "<br>\n",
    " \n",
    " Go to [HiCAT apertures experiments](#exp)."
   ]
  },
  {
   "cell_type": "code",
   "execution_count": 1,
   "metadata": {},
   "outputs": [],
   "source": [
    "#%matplotlib qt\n",
    "%matplotlib inline\n",
    "from hcipy import *\n",
    "import numpy as np\n",
    "import matplotlib.pyplot as plt\n",
    "from astropy.io import fits"
   ]
  },
  {
   "cell_type": "code",
   "execution_count": 2,
   "metadata": {},
   "outputs": [
    {
     "name": "stdout",
     "output_type": "stream",
     "text": [
      "0.001692 0.004032 0.001776 0.003916\n"
     ]
    }
   ],
   "source": [
    "# RS: doubled checked 5/22/19\n",
    "# magnification between first plane and considered plane, \n",
    "#dgammaErrFactor in HiCAT_APLCSP_spreadsheet in hicat_aplc repo\n",
    "delta_gamma = 0.004\n",
    "\n",
    "gamma_21 = 0.423\n",
    "delta_gamma_21 = gamma_21 * delta_gamma\n",
    "\n",
    "gamma_31 = 1.008\n",
    "delta_gamma_31 =gamma_31 * delta_gamma\n",
    "\n",
    "gamma_41 = 0.444\n",
    "delta_gamma_41 = gamma_41 * delta_gamma\n",
    "\n",
    "gamma_51 = 0.979\n",
    "delta_gamma_51 = gamma_51 * delta_gamma\n",
    "print(delta_gamma_21,delta_gamma_31,delta_gamma_41,delta_gamma_51)"
   ]
  },
  {
   "cell_type": "markdown",
   "metadata": {},
   "source": [
    "\n",
    "----------\n",
    "<a id=\"iris-ao\"></a>\n",
    "# P2 - Iris AO"
   ]
  },
  {
   "cell_type": "code",
   "execution_count": 3,
   "metadata": {},
   "outputs": [],
   "source": [
    "# RS: doubled checked 5/22/19"
   ]
  },
  {
   "cell_type": "code",
   "execution_count": 4,
   "metadata": {},
   "outputs": [
    {
     "name": "stdout",
     "output_type": "stream",
     "text": [
      "0.007\n",
      "0.008515867542417507\n",
      "0.008487048957087498\n"
     ]
    }
   ],
   "source": [
    "p2_irisao_segment_size = 1.4e-3 # m (note: point to point)\n",
    "p2_irisao_segment_side_length = p2_irisao_segment_size / 2\n",
    "p2_irisao_segment_gap_size = 12e-6 # m\n",
    "#p2_irisao_segment_gap_size = 1.212e-3/10 # note: creating a DM where gaps = 1/10 segments, tested and working using DS9\n",
    "p2_irisao_inscribed_circle_size = 10 * p2_irisao_segment_side_length\n",
    "p2_irisao_flat_to_flat_size = 14 * np.sqrt(3) / 2 * p2_irisao_segment_side_length\n",
    "p2_irisao_circumscribed_circle_size = np.sqrt(p2_irisao_flat_to_flat_size**2 + p2_irisao_segment_side_length**2)\n",
    "\n",
    "print(p2_irisao_inscribed_circle_size)\n",
    "print(p2_irisao_circumscribed_circle_size)\n",
    "print(p2_irisao_flat_to_flat_size)"
   ]
  },
  {
   "cell_type": "code",
   "execution_count": 5,
   "metadata": {},
   "outputs": [
    {
     "name": "stdout",
     "output_type": "stream",
     "text": [
      "0.017142857142857144 0.017142857142857144\n"
     ]
    }
   ],
   "source": [
    "irisao_gap_hexagon_fraction = p2_irisao_segment_gap_size / p2_irisao_segment_side_length\n",
    "print(irisao_gap_hexagon_fraction, 0.012 / 0.7)"
   ]
  },
  {
   "cell_type": "code",
   "execution_count": 6,
   "metadata": {},
   "outputs": [
    {
     "name": "stdout",
     "output_type": "stream",
     "text": [
      "0.001386143593539449\n"
     ]
    }
   ],
   "source": [
    "p2_irisao_distance_between_segments = p2_irisao_segment_side_length * np.sqrt(3)\n",
    "#corrected bug, sqrt(3) replaced by 2/sqrt(3)\n",
    "# tested with this value for gap size==1/10 segment size; p2_irisao_segment_gap_size = 1.212e-3/10 (measurable in DS9)\n",
    "p2_irisao_segment_circumdiameter = (2 * p2_irisao_segment_side_length) - (2/np.sqrt(3)) * p2_irisao_segment_gap_size\n",
    "print(p2_irisao_segment_circumdiameter)\n",
    "\n",
    "def p2_irisao():\n",
    "    segment = hexagonal_aperture(p2_irisao_segment_circumdiameter, np.pi/2)\n",
    "    \n",
    "    segment_positions = make_hexagonal_grid(p2_irisao_distance_between_segments, 3, False)\n",
    "    \n",
    "    aperture = make_segmented_aperture(segment, segment_positions)\n",
    "    return aperture"
   ]
  },
  {
   "cell_type": "markdown",
   "metadata": {},
   "source": [
    "[Top of page](#top)\n",
    "\n",
    "------------\n",
    "<a id=\"pupil-mask\"></a>\n",
    "# P1 - Pupil Mask"
   ]
  },
  {
   "cell_type": "code",
   "execution_count": 7,
   "metadata": {},
   "outputs": [
    {
     "name": "stdout",
     "output_type": "stream",
     "text": [
      "0.00839655\n"
     ]
    }
   ],
   "source": [
    "p1_pupil_mask_size = 19.850e-3 # m\n",
    "p2_pupil_mask_size = p1_pupil_mask_size * gamma_21\n",
    "print(p2_pupil_mask_size)"
   ]
  },
  {
   "cell_type": "code",
   "execution_count": 8,
   "metadata": {},
   "outputs": [
    {
     "name": "stdout",
     "output_type": "stream",
     "text": [
      "1.0877142857142856\n"
     ]
    }
   ],
   "source": [
    "# Central segment\n",
    "p1_pupil_mask_central_segment_size = 3.600e-3 # m\n",
    "p2_pupil_mask_central_segment_size = p1_pupil_mask_central_segment_size * gamma_21\n",
    "pupil_mask_central_segment_oversize_factor = p2_pupil_mask_central_segment_size / p2_irisao_segment_size\n",
    "print(pupil_mask_central_segment_oversize_factor)"
   ]
  },
  {
   "cell_type": "code",
   "execution_count": 9,
   "metadata": {},
   "outputs": [],
   "source": [
    "# Spiders\n",
    "p1_pupil_mask_spider_thickness = 0.200e-3 # m"
   ]
  },
  {
   "cell_type": "code",
   "execution_count": 10,
   "metadata": {},
   "outputs": [
    {
     "name": "stdout",
     "output_type": "stream",
     "text": [
      "0.9859887977562841\n"
     ]
    }
   ],
   "source": [
    "pupil_mask_undersize_contour = p2_pupil_mask_size / p2_irisao_circumscribed_circle_size\n",
    "print(pupil_mask_undersize_contour)"
   ]
  },
  {
   "cell_type": "code",
   "execution_count": 11,
   "metadata": {},
   "outputs": [
    {
     "name": "stdout",
     "output_type": "stream",
     "text": [
      "Pupil mask side-to-side contour length in P1: 19850 um\n",
      "Pupil mask central segment side length in P1: 3600 um\n",
      "Pupil mask spider thickness in P1: 200 um\n"
     ]
    }
   ],
   "source": [
    "# Output\n",
    "print('Pupil mask side-to-side contour length in P1: %d um' % (p1_pupil_mask_size * 1e6))\n",
    "print('Pupil mask central segment side length in P1: %d um' % (p1_pupil_mask_central_segment_size * 1e6))\n",
    "print('Pupil mask spider thickness in P1: %d um' % (p1_pupil_mask_spider_thickness * 1e6))"
   ]
  },
  {
   "cell_type": "code",
   "execution_count": 12,
   "metadata": {},
   "outputs": [],
   "source": [
    "def p1_pupil_mask():\n",
    "    segment = hexagonal_aperture(p1_pupil_mask_size / 7 / np.sqrt(3) * 2, np.pi / 2)\n",
    "    distance_between_segments = p1_pupil_mask_size / 7\n",
    "    segment_positions = make_hexagonal_grid(distance_between_segments, 3)\n",
    "    contour = make_segmented_aperture(segment, segment_positions)\n",
    "    \n",
    "    central_segment = hexagonal_aperture(p1_pupil_mask_central_segment_size, np.pi / 2)\n",
    "    \n",
    "    spider1 = make_spider_infinite([0,0], 60, p1_pupil_mask_spider_thickness)\n",
    "    spider2 = make_spider_infinite([0,0], 120, p1_pupil_mask_spider_thickness)\n",
    "    spider3 = make_spider_infinite([0,0], -60, p1_pupil_mask_spider_thickness)\n",
    "    spider4 = make_spider_infinite([0,0], -120, p1_pupil_mask_spider_thickness)\n",
    "    \n",
    "    def aper(grid):\n",
    "        return (contour(grid) - central_segment(grid)) * spider1(grid) * spider2(grid) * spider3(grid) * spider4(grid)\n",
    "    return aper"
   ]
  },
  {
   "cell_type": "markdown",
   "metadata": {},
   "source": [
    "[Top of page](#top)\n",
    "\n",
    "-----------\n",
    "<a id=\"apodizer\"></a>\n",
    "# P3 - Apodizer"
   ]
  },
  {
   "cell_type": "code",
   "execution_count": 13,
   "metadata": {},
   "outputs": [
    {
     "name": "stdout",
     "output_type": "stream",
     "text": [
      "0.008277455357142856\n"
     ]
    }
   ],
   "source": [
    "# Contour\n",
    "p3_apodizer_size = 19.725e-3 # m\n",
    "p2_apodizer_size = p3_apodizer_size * gamma_21 / gamma_31\n",
    "print(p2_apodizer_size)"
   ]
  },
  {
   "cell_type": "code",
   "execution_count": 14,
   "metadata": {},
   "outputs": [
    {
     "name": "stdout",
     "output_type": "stream",
     "text": [
      "2.8595744680851065e-05\n",
      "3.147321428571429\n"
     ]
    }
   ],
   "source": [
    "# Gap\n",
    "p3_apodizer_mask_gap_size = 0.090e-3 # m\n",
    "#p3_apodizer_mask_gap_size = 3*1.212e-3/10 *gamma_31 / gamma_21\n",
    "p3_irisao_segment_gap_size = p2_irisao_segment_gap_size * gamma_31 / gamma_21\n",
    "apodizer_mask_gap_oversize_factor_wrt_irisao = p3_apodizer_mask_gap_size / p3_irisao_segment_gap_size\n",
    "print(p3_irisao_segment_gap_size)\n",
    "print(apodizer_mask_gap_oversize_factor_wrt_irisao)"
   ]
  },
  {
   "cell_type": "code",
   "execution_count": 15,
   "metadata": {},
   "outputs": [],
   "source": [
    "# Central segment\n",
    "p3_apodizer_mask_central_segment_size = 3.950e-3 # m\n",
    "p3_pupil_mask_central_segment_size = p1_pupil_mask_central_segment_size * gamma_31\n",
    "apodizer_mask_central_segment_oversize_factor_wrt_pupil_mask = p3_apodizer_mask_central_segment_size / p3_pupil_mask_central_segment_size\n",
    "p3_irisao_segment_size = p2_irisao_segment_size * gamma_31 / gamma_21\n"
   ]
  },
  {
   "cell_type": "code",
   "execution_count": 16,
   "metadata": {},
   "outputs": [],
   "source": [
    "# Spiders\n",
    "p3_apodizer_mask_spiders_thickness = 0.350e-3 # m"
   ]
  },
  {
   "cell_type": "code",
   "execution_count": 17,
   "metadata": {},
   "outputs": [
    {
     "name": "stdout",
     "output_type": "stream",
     "text": [
      "0.0028892081556042546\n",
      "0.0028178571428571428\n"
     ]
    }
   ],
   "source": [
    "p3_irisao_segment_circumdiameter = p2_irisao_segment_circumdiameter * gamma_31 / gamma_21\n",
    "p3_irisao_distance_between_segments = p2_irisao_distance_between_segments * gamma_31 / gamma_21\n",
    "#corrected bug below, sqrt(3) replaced by 2/sqrt(3) Tested sucessefully using p3_apodizer_mask_gap_size = 3*1.212e-3/10 *gamma_31 / gamma_21\n",
    "p3_apodizer_segment_circumdiameter = p3_irisao_segment_circumdiameter + (-p3_apodizer_mask_gap_size + p3_irisao_segment_gap_size) * (2/np.sqrt(3))\n",
    "\n",
    "print(p3_irisao_distance_between_segments)\n",
    "\n",
    "print(p3_apodizer_size / 7)\n",
    "\n",
    "def p3_apodizer():\n",
    "    # segmentation\n",
    "    segment = hexagonal_aperture(p3_apodizer_segment_circumdiameter, np.pi/2)\n",
    "    segment_positions = make_hexagonal_grid(p3_irisao_distance_between_segments, 3, False)\n",
    "    segmentation = make_segmented_aperture(segment, segment_positions)\n",
    "    \n",
    "    segment = hexagonal_aperture(p3_apodizer_size / 7 / np.sqrt(3) * 2, np.pi / 2)\n",
    "    distance_between_segments = p3_apodizer_size / 7\n",
    "    segment_positions = make_hexagonal_grid(distance_between_segments, 3)\n",
    "    contour = make_segmented_aperture(segment, segment_positions)\n",
    "    \n",
    "    central_segment = hexagonal_aperture(p3_apodizer_mask_central_segment_size, np.pi / 2)\n",
    "    \n",
    "    spider1 = make_spider_infinite([0,0], 60, p3_apodizer_mask_spiders_thickness)\n",
    "    spider2 = make_spider_infinite([0,0], 120, p3_apodizer_mask_spiders_thickness)\n",
    "    spider3 = make_spider_infinite([0,0], -60, p3_apodizer_mask_spiders_thickness)\n",
    "    spider4 = make_spider_infinite([0,0], -120, p3_apodizer_mask_spiders_thickness)\n",
    "    \n",
    "    def aper(grid):\n",
    "        return segmentation(grid) * (contour(grid) - central_segment(grid)) * spider1(grid) * spider2(grid) * spider3(grid) * spider4(grid)\n",
    "    return aper"
   ]
  },
  {
   "cell_type": "markdown",
   "metadata": {},
   "source": [
    "[Top of page](#top)\n",
    "\n",
    "------------\n",
    "<a id=\"dm\"></a>\n",
    "\n",
    "# P4 - Boston DM"
   ]
  },
  {
   "cell_type": "code",
   "execution_count": 18,
   "metadata": {},
   "outputs": [],
   "source": [
    "p4_boston_dm_size = 9.9e-3 # m\n",
    "num_actuators = 34\n",
    "actuator_pitch = p4_boston_dm_size / num_actuators"
   ]
  },
  {
   "cell_type": "code",
   "execution_count": 19,
   "metadata": {},
   "outputs": [],
   "source": [
    "p4_apodizer_size = p3_apodizer_size * gamma_41 / gamma_31\n",
    "p4_irisao_circumscribed_circle_size = p2_irisao_circumscribed_circle_size * gamma_41 / gamma_21\n",
    "p4_irisao_flat_to_flat_size = p2_irisao_flat_to_flat_size * gamma_41 / gamma_21"
   ]
  },
  {
   "cell_type": "code",
   "execution_count": 20,
   "metadata": {},
   "outputs": [
    {
     "name": "stdout",
     "output_type": "stream",
     "text": [
      "0.87761544011544\n",
      "1.1075508995151944\n"
     ]
    }
   ],
   "source": [
    "boston_dm_undersize_contour_wrt_apodizer_mask = p4_apodizer_size / p4_boston_dm_size\n",
    "boston_dm_contour_oversize_factor = p4_boston_dm_size / p4_irisao_circumscribed_circle_size\n",
    "\n",
    "print(boston_dm_undersize_contour_wrt_apodizer_mask)\n",
    "print(boston_dm_contour_oversize_factor)"
   ]
  },
  {
   "cell_type": "code",
   "execution_count": 21,
   "metadata": {},
   "outputs": [
    {
     "name": "stdout",
     "output_type": "stream",
     "text": [
      "29.83892496392496\n"
     ]
    }
   ],
   "source": [
    "num_actuators_used = boston_dm_undersize_contour_wrt_apodizer_mask * num_actuators\n",
    "print(num_actuators_used)"
   ]
  },
  {
   "cell_type": "code",
   "execution_count": 22,
   "metadata": {},
   "outputs": [
    {
     "name": "stdout",
     "output_type": "stream",
     "text": [
      "Actuator pitch: 291 um\n",
      "Number of used actuators: 29.84\n"
     ]
    }
   ],
   "source": [
    "print('Actuator pitch: %d um' % (actuator_pitch * 1e6))\n",
    "print('Number of used actuators: %0.2f' % (num_actuators_used))"
   ]
  },
  {
   "cell_type": "code",
   "execution_count": 23,
   "metadata": {},
   "outputs": [],
   "source": [
    "def p4_boston_dm():\n",
    "    return circular_aperture(p4_boston_dm_size)"
   ]
  },
  {
   "cell_type": "markdown",
   "metadata": {},
   "source": [
    "[Top of page](#top)\n",
    "\n",
    "----------\n",
    "<a id=\"lyot-stop\"></a>\n",
    "\n",
    "# P5 - Lyot stop"
   ]
  },
  {
   "cell_type": "code",
   "execution_count": 24,
   "metadata": {},
   "outputs": [
    {
     "name": "stdout",
     "output_type": "stream",
     "text": [
      "0.019709301002427283\n"
     ]
    }
   ],
   "source": [
    "p5_lyot_stop_size = 15.9e-3 # m\n",
    "p5_irisao_inscribed_circle_size = p2_irisao_inscribed_circle_size * gamma_51 / gamma_21\n",
    "lyot_stop_mask_undersize_contour_wrt_inscribed_circle = p5_lyot_stop_size / p5_irisao_inscribed_circle_size\n",
    "\n",
    "p5_irisao_flat_to_flat_size = p2_irisao_flat_to_flat_size * gamma_51 / gamma_21\n",
    "p5_irisao_circumscribed_circle_size = p2_irisao_circumscribed_circle_size * gamma_51 / gamma_21\n",
    "print(p5_irisao_circumscribed_circle_size)"
   ]
  },
  {
   "cell_type": "code",
   "execution_count": 25,
   "metadata": {},
   "outputs": [
    {
     "data": {
      "text/plain": [
       "0.8094650321003662"
      ]
     },
     "execution_count": 25,
     "metadata": {},
     "output_type": "execute_result"
    }
   ],
   "source": [
    "10 / (14 * np.sqrt(3) / 2) * lyot_stop_mask_undersize_contour_wrt_inscribed_circle"
   ]
  },
  {
   "cell_type": "code",
   "execution_count": 26,
   "metadata": {},
   "outputs": [
    {
     "name": "stdout",
     "output_type": "stream",
     "text": [
      "0.0038363591269841273\n",
      "1.7725139318084842\n"
     ]
    }
   ],
   "source": [
    "# Central segment\n",
    "p5_lyot_stop_mask_central_segment_size = 6.800e-3 # m\n",
    "p5_apodizer_mask_central_segment_size = p3_apodizer_mask_central_segment_size * gamma_51 / gamma_31\n",
    "print(p5_apodizer_mask_central_segment_size)\n",
    "p5_irisao_segment_size = p2_irisao_segment_size * gamma_51 / gamma_21\n",
    "lyot_stop_mask_central_segment_oversize_factor_wrt_apodizer_mask = p5_lyot_stop_mask_central_segment_size / p5_apodizer_mask_central_segment_size\n",
    "print(lyot_stop_mask_central_segment_oversize_factor_wrt_apodizer_mask)"
   ]
  },
  {
   "cell_type": "code",
   "execution_count": 27,
   "metadata": {},
   "outputs": [
    {
     "name": "stdout",
     "output_type": "stream",
     "text": [
      "0.03551622657311855\n"
     ]
    }
   ],
   "source": [
    "# Spiders\n",
    "p5_lyot_stop_mask_spiders_thickness = 0.700e-3 # m\n",
    "lyot_stop_mask_spiders_thickness_ratio = p5_lyot_stop_mask_spiders_thickness / p5_irisao_circumscribed_circle_size\n",
    "print(lyot_stop_mask_spiders_thickness_ratio)"
   ]
  },
  {
   "cell_type": "code",
   "execution_count": 28,
   "metadata": {},
   "outputs": [],
   "source": [
    "def p5_lyot_stop():\n",
    "    outer_diameter = circular_aperture(p5_lyot_stop_size)\n",
    "    central_obscuration = circular_aperture(p5_lyot_stop_mask_central_segment_size)\n",
    "    \n",
    "    spider1 = make_spider_infinite([0,0], 60, p5_lyot_stop_mask_spiders_thickness)\n",
    "    spider2 = make_spider_infinite([0,0], 120, p5_lyot_stop_mask_spiders_thickness)\n",
    "    spider3 = make_spider_infinite([0,0], -60, p5_lyot_stop_mask_spiders_thickness)\n",
    "    spider4 = make_spider_infinite([0,0], -120, p5_lyot_stop_mask_spiders_thickness)\n",
    "    \n",
    "    def aper(grid):\n",
    "        return (outer_diameter(grid) - central_obscuration(grid)) * spider1(grid) * spider2(grid) * spider3(grid) * spider4(grid)\n",
    "    return aper"
   ]
  },
  {
   "cell_type": "code",
   "execution_count": 29,
   "metadata": {},
   "outputs": [
    {
     "data": {
      "text/plain": [
       "0.0159"
      ]
     },
     "execution_count": 29,
     "metadata": {},
     "output_type": "execute_result"
    }
   ],
   "source": [
    "p5_lyot_stop_size"
   ]
  },
  {
   "cell_type": "code",
   "execution_count": 30,
   "metadata": {},
   "outputs": [
    {
     "data": {
      "text/plain": [
       "0.0068"
      ]
     },
     "execution_count": 30,
     "metadata": {},
     "output_type": "execute_result"
    }
   ],
   "source": [
    "p5_lyot_stop_mask_central_segment_size"
   ]
  },
  {
   "cell_type": "markdown",
   "metadata": {},
   "source": [
    "[Top of page](#top)\n",
    "\n",
    "------------------------\n",
    "# Plots"
   ]
  },
  {
   "cell_type": "code",
   "execution_count": 31,
   "metadata": {},
   "outputs": [],
   "source": [
    "# Here the reference is plane P2 - but the largest size of the array is for the Boston DM (largest optic)\n",
    "nPixelBostonDM = 500 \n",
    "g = make_pupil_grid(nPixelBostonDM, p4_boston_dm_size / gamma_41 * gamma_21)\n",
    "supersampling = 1\n",
    "\n",
    "irisao = evaluate_supersampled(p2_irisao(), g, supersampling)\n",
    "pupil_mask = evaluate_supersampled(p1_pupil_mask(), g.scaled(1 / gamma_21), supersampling)\n",
    "apodizer = evaluate_supersampled(p3_apodizer(), g.scaled(gamma_31 / gamma_21), supersampling)\n",
    "boston_dm = evaluate_supersampled(p4_boston_dm(), g.scaled(gamma_41 / gamma_21), supersampling)\n",
    "lyot_stop = evaluate_supersampled(p5_lyot_stop(), g.scaled(gamma_51 / gamma_21), supersampling)\n",
    "\n",
    "# debugging purposes: \n",
    "#write_fits(irisao, 'masks/irisao.fits')\n",
    "#write_fits(apodizer, 'masks/apodizer.fits')"
   ]
  },
  {
   "cell_type": "code",
   "execution_count": 32,
   "metadata": {},
   "outputs": [
    {
     "data": {
      "image/png": "[encoded data removed]",
      "text/plain": [
       "<Figure size 432x288 with 1 Axes>"
      ]
     },
     "metadata": {
      "needs_background": "light"
     },
     "output_type": "display_data"
    },
    {
     "data": {
      "image/png": "[encoded data removed]",
      "text/plain": [
       "<Figure size 432x288 with 1 Axes>"
      ]
     },
     "metadata": {
      "needs_background": "light"
     },
     "output_type": "display_data"
    },
    {
     "data": {
      "image/png": "[encoded data removed]",
      "text/plain": [
       "<Figure size 432x288 with 1 Axes>"
      ]
     },
     "metadata": {
      "needs_background": "light"
     },
     "output_type": "display_data"
    },
    {
     "data": {
      "image/png": "[encoded data removed]",
      "text/plain": [
       "<Figure size 432x288 with 1 Axes>"
      ]
     },
     "metadata": {
      "needs_background": "light"
     },
     "output_type": "display_data"
    },
    {
     "data": {
      "image/png": "[encoded data removed]",
      "text/plain": [
       "<Figure size 432x288 with 1 Axes>"
      ]
     },
     "metadata": {
      "needs_background": "light"
     },
     "output_type": "display_data"
    }
   ],
   "source": [
    "masks = [pupil_mask, irisao, apodizer, boston_dm, lyot_stop]\n",
    "labels = ['Pupil Mask', 'IrisAO', 'Apodizer Mask', 'BostonDM', 'LyotStop']\n",
    "\n",
    "for mask, label in zip(masks, labels):\n",
    "    plt.figure()\n",
    "    plt.title(label)\n",
    "    imshow_field(mask, cmap='gray')\n",
    "    plt.show()"
   ]
  },
  {
   "cell_type": "code",
   "execution_count": 33,
   "metadata": {},
   "outputs": [],
   "source": [
    "# for i, (mask_a, label_a) in enumerate(zip(masks, labels)):\n",
    "#    for j, (mask_b, label_b) in enumerate(zip(masks, labels)):\n",
    "#        if j <= i:\n",
    "#            continue\n",
    "       \n",
    "#        plt.figure()\n",
    "#        plt.title(label_a + ' - ' + label_b)\n",
    "#        imshow_field(mask_a - mask_b, cmap='gray', vmin=-1, vmax=1)\n",
    "#        plt.show()"
   ]
  },
  {
   "cell_type": "code",
   "execution_count": 33,
   "metadata": {},
   "outputs": [
    {
     "name": "stdout",
     "output_type": "stream",
     "text": [
      "0.9712301587301587\n",
      "1.0\n"
     ]
    }
   ],
   "source": [
    "nPixApodizer = 100;\n",
    "magnification_tolerance = 0.000 # not investigated yet, in case we want to add robustness to magnification later\n",
    "nlyotstops = 1 # for the magnification robustness \n",
    "gray_apod = False # because the apodizer defines the pupil (and oversizes all the structures) we don't want it gray\n",
    "for gray in [True]:\n",
    "    for num_pix in [nPixApodizer]:\n",
    "        grid = make_uniform_grid(num_pix, [p3_apodizer_size, p3_apodizer_size])\n",
    "\n",
    "        own_apod = evaluate_supersampled(p3_apodizer(), grid, 4 if gray_apod else 1)\n",
    "        write_fits(own_apod, '../../masks/HiCAT/hicat_apodizer_mask_%d_%s.fits' % (num_pix, 'gy' if gray_apod else 'bw'))\n",
    "\n",
    "        for mag_i, mag in enumerate(np.linspace(-magnification_tolerance/2, magnification_tolerance/2, nlyotstops)+1):\n",
    "            print(mag * gamma_51 / gamma_31)\n",
    "            print(mag)\n",
    "            own_lyot = evaluate_supersampled(p5_lyot_stop(), grid.scaled(mag * gamma_51 / gamma_31), 4 if gray else 1)\n",
    "            write_fits(own_lyot, '../../masks/HiCAT/hicat_lyot_mask_%d_%s_%d.fits' % (num_pix, 'gy' if gray else 'bw', mag_i))"
   ]
  },
  {
   "cell_type": "code",
   "execution_count": 35,
   "metadata": {},
   "outputs": [],
   "source": [
    "#mathematica_apod = fits.getdata('masks/HiCAT/HiCAT-Aper_F-N0486_Hex3-Ctr0972-Obs0195-SpX0017-Gap0004.fits')\n",
    "#own_apod = fits.getdata('masks/HiCAT/ehpor_hicat_apodizer_mask_486_bw_check_gap.fits')\n",
    "#own_apod = fits.getdata('masks/HiCAT/hicat_apodizer_mask_486_gy.fits')\n",
    "#diff = mathematica_apod-own_apod\n",
    "#write_fits(diff,'masks/HiCAT/mathematica-epor.fits')\n",
    "#plt.imshow(diff,cmap = 'Greys_r')\n",
    "#plt.show()"
   ]
  },
  {
   "cell_type": "code",
   "execution_count": 36,
   "metadata": {},
   "outputs": [],
   "source": [
    "#plt.subplot(1,2,1)\n",
    "#imshow_field(own_apod, cmap='gray')\n",
    "#plt.subplot(1,2,2)\n",
    "#imshow_field(own_lyot, cmap='gray')\n",
    "#plt.show()"
   ]
  },
  {
   "cell_type": "markdown",
   "metadata": {},
   "source": [
    "[Top of page](#top)\n",
    "\n",
    "----------------------\n",
    "<br>\n",
    "\n",
    "<a id=\"exp\"></a>\n",
    "# Aperture experiments\n",
    "\n",
    "\n",
    "### Apodizer gap thickness\n"
   ]
  },
  {
   "cell_type": "code",
   "execution_count": 34,
   "metadata": {},
   "outputs": [
    {
     "data": {
      "image/png": "[encoded data removed]",
      "text/plain": [
       "<Figure size 432x288 with 1 Axes>"
      ]
     },
     "metadata": {
      "needs_background": "light"
     },
     "output_type": "display_data"
    }
   ],
   "source": [
    "thickness = 3 # factor by which to change gap thickness\n",
    "p3_apodizer_mask_gap_size = p3_apodizer_mask_gap_size*thickness\n",
    "\n",
    "p3_irisao_segment_gap_size = p2_irisao_segment_gap_size * gamma_31 / gamma_21\n",
    "apodizer_mask_gap_oversize_factor_wrt_irisao = p3_apodizer_mask_gap_size / p3_irisao_segment_gap_size\n",
    "p3_apodizer_segment_circumdiameter = p3_irisao_segment_circumdiameter + (-p3_apodizer_mask_gap_size + p3_irisao_segment_gap_size) * (2/np.sqrt(3))\n",
    "\n",
    "\n",
    "thicker_apodizer = evaluate_supersampled(p3_apodizer(), g.scaled(gamma_31 / gamma_21), supersampling)\n",
    "\n",
    "plt.figure()\n",
    "plt.title('Apodizer with gap thickness of %.2e m' %p3_apodizer_mask_gap_size)\n",
    "imshow_field(thicker_apodizer, cmap='gray')\n",
    "plt.show()\n",
    "p3_apodizer_mask_gap_size = 0.090e-3 # m "
   ]
  },
  {
   "cell_type": "markdown",
   "metadata": {},
   "source": [
    "### 3. Apodizer contour (no gaps & no central obscuration)\n"
   ]
  },
  {
   "cell_type": "code",
   "execution_count": 35,
   "metadata": {},
   "outputs": [
    {
     "data": {
      "image/png": "[encoded data removed]",
      "text/plain": [
       "<Figure size 432x288 with 1 Axes>"
      ]
     },
     "metadata": {
      "needs_background": "light"
     },
     "output_type": "display_data"
    }
   ],
   "source": [
    "def p3_apodizer_contour():\n",
    "    \n",
    "    segment = hexagonal_aperture(p3_apodizer_size / 7 / np.sqrt(3) * 2, np.pi / 2)\n",
    "    distance_between_segments = p3_apodizer_size / 7\n",
    "    segment_positions = make_hexagonal_grid(distance_between_segments, 3)\n",
    "    contour = make_segmented_aperture(segment, segment_positions)\n",
    "    \n",
    "    def aper(grid):\n",
    "        return contour(grid)\n",
    "    return aper\n",
    "\n",
    "apodizer_contour = evaluate_supersampled(p3_apodizer_contour(), g.scaled(gamma_31 / gamma_21), supersampling)\n",
    "plt.figure()\n",
    "plt.title('Apodizer')\n",
    "imshow_field(apodizer_contour, cmap='gray')\n",
    "plt.show()\n",
    "\n",
    "p3_apodizer_size = 19.725e-3 # m\n"
   ]
  },
  {
   "cell_type": "markdown",
   "metadata": {},
   "source": [
    "### 4. Circular apodizer that fits inside Iris AO\n",
    "(i.e a bit smaller than the inscribed circle)"
   ]
  },
  {
   "cell_type": "code",
   "execution_count": 36,
   "metadata": {},
   "outputs": [
    {
     "name": "stdout",
     "output_type": "stream",
     "text": [
      "0.007\n",
      "0.01668085106382979\n"
     ]
    }
   ],
   "source": [
    "print(p2_irisao_inscribed_circle_size)\n",
    "p3_irisao_inscribed_circle_size = p2_irisao_inscribed_circle_size * gamma_31 / gamma_21\n",
    "print(p3_irisao_inscribed_circle_size)"
   ]
  },
  {
   "cell_type": "code",
   "execution_count": 37,
   "metadata": {},
   "outputs": [
    {
     "data": {
      "image/png": "[encoded data removed]",
      "text/plain": [
       "<Figure size 432x288 with 1 Axes>"
      ]
     },
     "metadata": {
      "needs_background": "light"
     },
     "output_type": "display_data"
    }
   ],
   "source": [
    "def p3_circ_apodizer():\n",
    "    p3_apodizer_size = p3_irisao_inscribed_circle_size*0.99\n",
    "    outer_diameter = circular_aperture(p3_apodizer_size)\n",
    "    \n",
    "    def aper(grid):\n",
    "        return outer_diameter(grid) \n",
    "    return aper\n",
    "\n",
    "circ_apodizer = evaluate_supersampled(p3_circ_apodizer(), g.scaled(gamma_31 / gamma_21), supersampling)\n",
    "\n",
    "plt.figure()\n",
    "plt.title('Unobscured Circular Aperture')\n",
    "imshow_field(irisao + circ_apodizer, cmap='gray')\n",
    "plt.show()"
   ]
  },
  {
   "cell_type": "markdown",
   "metadata": {},
   "source": [
    "------------------------\n",
    "[Top of page](#top)"
   ]
  }
 ],
 "metadata": {
  "kernelspec": {
   "display_name": "Python 3",
   "language": "python",
   "name": "python3"
  },
  "language_info": {
   "codemirror_mode": {
    "name": "ipython",
    "version": 3
   },
   "file_extension": ".py",
   "mimetype": "text/x-python",
   "name": "python",
   "nbconvert_exporter": "python",
   "pygments_lexer": "ipython3",
   "version": "3.7.7"
  }
 },
 "nbformat": 4,
 "nbformat_minor": 2
}
