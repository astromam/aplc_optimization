{
 "cells": [
  {
   "cell_type": "markdown",
   "metadata": {},
   "source": [
    "## Repo Testing"
   ]
  },
  {
   "cell_type": "markdown",
   "metadata": {},
   "source": [
    "So you want to start doing APLC stuff? Well hopefully this notebook can get you started with the right things you need. This notebook is meant to work with almost any state of the repo and really its purpose is just to check smaller issues like if you can make small quick tests.\n",
    "\n",
    "I guess a good place to start is to test and see if things save into the \"surveys\" directory. Note that if you have just cloned the repo, it may not have any \"surveys\" folder. Rest assured that after running this next cell, it will create the \"surveys\" folder along with a test file inside of it. "
   ]
  },
  {
   "cell_type": "code",
   "execution_count": 1,
   "metadata": {
    "scrolled": true
   },
   "outputs": [],
   "source": [
    "#some inputs\n",
    "#make sure you are in the aplc environment or else it it'll spit back a 'no module found error'\n",
    "from survey import DesignParameterSurvey\n",
    "from por_aplc import PorAPLC\n",
    "from astropy.io import fits\n",
    "from LUVOIR_Inputs_Generation import LUVOIR_inputs_gen"
   ]
  },
  {
   "cell_type": "code",
   "execution_count": 2,
   "metadata": {},
   "outputs": [
    {
     "name": "stdout",
     "output_type": "stream",
     "text": [
      "masks/LUVOIR/TelAp_LUVOIR_gap_pad04_bw_ovsamp04_N0100.fits exists\n",
      "masks/LUVOIR/LS_LUVOIR_ID0120_OD0982_no_struts_gy_ovsamp4_N0100.fits exists\n",
      "[]\n",
      "This survey has 1 design parameter combinations.\n",
      "0 parameter are varied:\n",
      "\n",
      "File organization:\n",
      "{'analysis_dir': '/Users/bnickson/aplc-optimization/surveys/luvoir_directory_test_N0100_your_local_machine/analysis',\n",
      " 'drivers_dir': '/Users/bnickson/aplc-optimization/surveys/luvoir_directory_test_N0100_your_local_machine/drivers',\n",
      " 'input_files_dir': '/Users/bnickson/aplc-optimization/masks',\n",
      " 'log_dir': '/Users/bnickson/aplc-optimization/surveys/luvoir_directory_test_N0100_your_local_machine/logs',\n",
      " 'solution_dir': '/Users/bnickson/aplc-optimization/surveys/luvoir_directory_test_N0100_your_local_machine/solutions',\n",
      " 'survey_dir': '/Users/bnickson/aplc-optimization/surveys/luvoir_directory_test_N0100_your_local_machine'}\n",
      "\n",
      "All input files exist? True\n",
      "All drivers exist? False\n",
      "All solutions exist? False\n",
      "The solution is not optimized yet. No analysis will be performed.\n"
     ]
    }
   ],
   "source": [
    "n = 100 #number of pixels in input and final arrays\n",
    "survey_name = \"directory_test\"\n",
    "machine = \"your_local_machine\"\n",
    "\n",
    "input_files_dict = {'directory':'LUVOIR/', 'N':n, 'oversamp':4,\\\n",
    "                    'aperture': {'seg_gap_pad':4}, \\\n",
    "                    'lyot_stop':{'lyot_ref_diam':13.5,'ls_spid':False,'ls_spid_ov':2,'LS_ID':[0.12], 'LS_OD':[0.982]}}\n",
    "\n",
    "pup_filename, ls_filenames = LUVOIR_inputs_gen(input_files_dict)\n",
    "\n",
    "survey_parameters = {'pupil': {'N': n,'filename': pup_filename}, \\\n",
    "                     'lyot_stop': {'filename': ls_filenames}, \\\n",
    "                     'focal_plane_mask': {'radius':3.5, 'num_pix': 150, 'grayscale': True,},\n",
    "                     'image': {'contrast':10,'iwa':3.4,'owa':12.0,'bandwidth':0.10,'num_wavelengths':1}, \\\n",
    "                     'method':{'starting_scale': 1}}\n",
    "\n",
    "luvoir = DesignParameterSurvey(PorAPLC, survey_parameters, 'surveys/luvoir_{}_N{:04d}_{}/'.format(survey_name,n,machine), 'masks/')\n",
    "luvoir.describe()\n",
    "\n",
    "luvoir.write_drivers(True)\n",
    "luvoir.run_optimizations(True)\n",
    "luvoir.run_analyses(True)"
   ]
  },
  {
   "cell_type": "markdown",
   "metadata": {},
   "source": [
    "Now this cell should not take more than a minute to run. Go into your \"surveys\" directory and look for a file named: /luvoir_directory_test_N0100_your_local_machine\n",
    "\n",
    "If you open this directory up, you'll see 4 more directories:\n",
    "\n",
    "/analysis\n",
    "\n",
    "/drivers\n",
    "\n",
    "/logs\n",
    "\n",
    "/solutions\n",
    "\n",
    "If you see all these directories then so far nothing is broken :) Hooray! When you do a legitimate run, files will actually appear in those four directories. For our quick and dirty run, nothing will appear and you can delete the empty directory. \n",
    "\n",
    "In the event that this didn't work, well then I'm sorry"
   ]
  },
  {
   "cell_type": "markdown",
   "metadata": {},
   "source": [
    "## Quick and Dirty Runs"
   ]
  },
  {
   "cell_type": "markdown",
   "metadata": {},
   "source": [
    "So below I will put in some LUVOIR runs that go by pretty quickly and should produce some results for you. Keep in mind the header. These runs are just to make sure that you can run a do_luvoir_template and get a quick result. "
   ]
  },
  {
   "cell_type": "code",
   "execution_count": 3,
   "metadata": {},
   "outputs": [
    {
     "name": "stdout",
     "output_type": "stream",
     "text": [
      "masks/LUVOIR/TelAp_LUVOIR_gap_pad04_bw_ovsamp04_N0100.fits exists\n",
      "masks/LUVOIR/LS_LUVOIR_ID0120_OD0982_no_struts_gy_ovsamp4_N0100.fits exists\n",
      "[]\n",
      "This survey has 1 design parameter combinations.\n",
      "0 parameter are varied:\n",
      "\n",
      "File organization:\n",
      "{'analysis_dir': '/Users/bnickson/aplc-optimization/surveys/luvoir_BW10_small_N0100_local_machine/analysis',\n",
      " 'drivers_dir': '/Users/bnickson/aplc-optimization/surveys/luvoir_BW10_small_N0100_local_machine/drivers',\n",
      " 'input_files_dir': '/Users/bnickson/aplc-optimization/masks',\n",
      " 'log_dir': '/Users/bnickson/aplc-optimization/surveys/luvoir_BW10_small_N0100_local_machine/logs',\n",
      " 'solution_dir': '/Users/bnickson/aplc-optimization/surveys/luvoir_BW10_small_N0100_local_machine/solutions',\n",
      " 'survey_dir': '/Users/bnickson/aplc-optimization/surveys/luvoir_BW10_small_N0100_local_machine'}\n",
      "\n",
      "All input files exist? True\n",
      "All drivers exist? False\n",
      "All solutions exist? False\n",
      "The solution is not optimized yet. No analysis will be performed.\n"
     ]
    }
   ],
   "source": [
    "n = 100 \n",
    "survey_name = \"BW10_small\" #survey name\n",
    "machine = \"local_machine\" #machine the survey is run on. \n",
    "\n",
    "input_files_dict = {'directory':'LUVOIR/', 'N':n, 'oversamp':4,\\\n",
    "\t\t\t\t\t'aperture': {'seg_gap_pad':4}, \\\n",
    "\t\t\t\t\t'lyot_stop':{'lyot_ref_diam':13.5,'ls_spid':False,'ls_spid_ov':2,'LS_ID':[0.12], 'LS_OD':[0.982]}}\n",
    "\n",
    "pup_filename, ls_filenames = LUVOIR_inputs_gen(input_files_dict)\n",
    "\n",
    "\n",
    "survey_parameters = {'pupil': {'N': n,'filename': pup_filename}, \\\n",
    "                     'lyot_stop': {'filename': ls_filenames}, \\\n",
    "                     'focal_plane_mask': {'radius':3.5, 'num_pix': 150, 'grayscale': True,},\n",
    "                     'image': {'contrast':10,'iwa':3.4,'owa':12.0,'bandwidth':0.10,'num_wavelengths':5}, \\\n",
    "                     'method':{'starting_scale': 1}}\n",
    "\n",
    "\n",
    "luvoir = DesignParameterSurvey(PorAPLC, survey_parameters, 'surveys/luvoir_{}_N{:04d}_{}/'.format(survey_name,n,machine), 'masks/')\n",
    "luvoir.describe()\n",
    "\n",
    "luvoir.write_drivers(True)\n",
    "luvoir.run_optimizations(True)\n",
    "luvoir.run_analyses(True)"
   ]
  },
  {
   "cell_type": "code",
   "execution_count": null,
   "metadata": {},
   "outputs": [],
   "source": []
  }
 ],
 "metadata": {
  "kernelspec": {
   "display_name": "Python 3",
   "language": "python",
   "name": "python3"
  },
  "language_info": {
   "codemirror_mode": {
    "name": "ipython",
    "version": 3
   },
   "file_extension": ".py",
   "mimetype": "text/x-python",
   "name": "python",
   "nbconvert_exporter": "python",
   "pygments_lexer": "ipython3",
   "version": "3.7.7"
  }
 },
 "nbformat": 4,
 "nbformat_minor": 2
}
