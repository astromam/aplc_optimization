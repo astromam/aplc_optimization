{
 "cells": [
  {
   "cell_type": "markdown",
   "metadata": {},
   "source": [
    "<a id=\"top\"></a>\n",
    "# LUVOIR Aperture Generation Notebook\n",
    "\n",
    "\n",
    "## Package imports"
   ]
  },
  {
   "cell_type": "code",
   "execution_count": 1,
   "metadata": {},
   "outputs": [],
   "source": [
    "#%matplotlib qt\n",
    "%matplotlib inline\n",
    "from hcipy import *\n",
    "import numpy as np\n",
    "import matplotlib.pyplot as plt\n",
    "from astropy.io import fits"
   ]
  },
  {
   "cell_type": "markdown",
   "metadata": {},
   "source": [
    "## Parameters"
   ]
  },
  {
   "cell_type": "code",
   "execution_count": 2,
   "metadata": {},
   "outputs": [],
   "source": [
    "filepath = '../../masks/LUVOIR/'\n",
    "N        = 256 #Number of pixels in aperture, lyot stop, apodizer array\n",
    "oversamp = 2   #oversampling factor in evaluate_supersampled [hcipy/field/util.py]. \n",
    "                   #If set to 1 returns bw pupil. For gray set to > 1, nominally set to 4 (4 grey levels)"
   ]
  },
  {
   "cell_type": "markdown",
   "metadata": {},
   "source": [
    "### Aperture parameters"
   ]
  },
  {
   "cell_type": "code",
   "execution_count": 3,
   "metadata": {},
   "outputs": [],
   "source": [
    "gap_padding  = 5   #arbitratry padding of gap size to represent gaps on smaller arrays \n",
    "                   #effectively makes the gaps larger and the segments smaller to preserve \n",
    "                   #the same segment pitch        \n"
   ]
  },
  {
   "cell_type": "code",
   "execution_count": 4,
   "metadata": {},
   "outputs": [],
   "source": [
    "#black and white or grey pixels\n",
    "if oversamp == 1:\n",
    "    edge = 'bw'\n",
    "elif oversamp > 1:\n",
    "    edge = 'gy'"
   ]
  },
  {
   "cell_type": "markdown",
   "metadata": {},
   "source": [
    "### Lyot Stop parameters"
   ]
  },
  {
   "cell_type": "code",
   "execution_count": 5,
   "metadata": {},
   "outputs": [],
   "source": [
    "pupil_diameter_inscribed = 13.5\n",
    "lyot_ref_diam            = pupil_diameter_inscribed #diameter used to reference LS id and od against\n",
    "ls_spid                  = False     #flag for inclusion or exclusion of struts in lyot stop\n",
    "spid_ov                  = 2"
   ]
  },
  {
   "cell_type": "code",
   "execution_count": 6,
   "metadata": {},
   "outputs": [],
   "source": [
    "LS_ID = [0.19]  #lyot stop inner diameter(s), relative to inscribed circle, \n",
    "                #re-normalized against circumscribed pupil in LS gen function\n",
    "    \n",
    "LS_OD = [0.937] #lyot stop outer diameter, relative to inscribed circle, \n",
    "                #re-normalized against circumscribed pupil in LS gen function"
   ]
  },
  {
   "cell_type": "markdown",
   "metadata": {},
   "source": [
    "### Filepath and Filenames"
   ]
  },
  {
   "cell_type": "markdown",
   "metadata": {},
   "source": [
    "### Construct aperture, write to fits"
   ]
  },
  {
   "cell_type": "code",
   "execution_count": 7,
   "metadata": {},
   "outputs": [
    {
     "name": "stdout",
     "output_type": "stream",
     "text": [
      "../../masks/LUVOIR/TelAp_LUVOIR_gap_pad05_gy_ovsamp02_N0256.fits\n"
     ]
    },
    {
     "name": "stderr",
     "output_type": "stream",
     "text": [
      "WARNING: AstropyDeprecationWarning: \"clobber\" was deprecated in version 2.0 and will be removed in a future version. Use argument \"overwrite\" instead. [warnings]\n"
     ]
    }
   ],
   "source": [
    "pup_filename = 'TelAp_LUVOIR_gap_pad{0:02d}_{1:s}_ovsamp{2:02d}_N{3:04d}.fits'.format(gap_padding,edge,oversamp,N)\n",
    "\n",
    "grid                        = make_pupil_grid(N)\n",
    "LUVOIR_ap, aperture_header  = make_luvoir_a_aperture(gap_padding, return_header = True)\n",
    "pupil                       = evaluate_supersampled(LUVOIR_ap,grid,oversamp)\n",
    "\n",
    "aperture_header['OVERSAMP'] = oversamp\n",
    "aperture_header['EDGE']     = edge\n",
    "aperture_header['D_INSC']   = pupil_diameter_inscribed\n",
    "aperture_header['EFF_GAP']  = aperture_header['GAP_PAD']*aperture_header['SEG_GAP']\n",
    "\n",
    "hdr = fits.Header()\n",
    "hdr.set('TELESCOP', aperture_header['TELESCOP'])\n",
    "hdr.set('D_CIRC', aperture_header['D_CIRC'],'m: circumscribed diameter')\n",
    "hdr.set('D_INSC', aperture_header['D_INSC'],'m: inscribed diameter')\n",
    "hdr.set('SEG_F2F',aperture_header['SEG_F2F_D'],'m: actual segment flat-to-flat diameter')\n",
    "hdr.set('SEG_GAP',aperture_header['SEG_GAP'],'m: actual gap size between segments')\n",
    "hdr.set('GAP_PAD',aperture_header['GAP_PAD'],'arbitratry padding of gap for small arrays')\n",
    "hdr.set('EFF_GAP',aperture_header['EFF_GAP'],'m: effective gap size after padding')\n",
    "hdr.set('STRUT_W',aperture_header['STRUT_W'],'m: actual support strut width')\n",
    "hdr.set('STRUT_ST',aperture_header['STRUT_ST'],'m: lower spider starting point d from center')\n",
    "hdr.set('STRUT_AN',aperture_header['STRUT_AN'],'deg: angle lower spiders offset from vertical')\n",
    "hdr.set('NORM',aperture_header['NORM'],'normalization keyword, OD scaled to 1 by Dcirc')\n",
    "hdr.set('SEG_TRAN',aperture_header['SEG_TRAN'],'The transmission for each of the segments')\n",
    "hdr.set('EDGE',aperture_header['EDGE'],'black and white, or grey pixels')\n",
    "hdr.set('OVERSAMP',aperture_header['OVERSAMP'],'oversampling factor, # grey levels')\n",
    "hdr.set('PROV',aperture_header['PROV'])\n",
    "\n",
    "fits.writeto(filepath+pup_filename, pupil.shaped, hdr,clobber=True)\n",
    "print(filepath+pup_filename)\n"
   ]
  },
  {
   "cell_type": "markdown",
   "metadata": {},
   "source": [
    "### Construct lyot stop(s), write to fits"
   ]
  },
  {
   "cell_type": "code",
   "execution_count": 8,
   "metadata": {},
   "outputs": [
    {
     "name": "stdout",
     "output_type": "stream",
     "text": [
      "../../masks/LUVOIR/LS_LUVOIR_ID0190_OD0937_no_struts_gy_ovsamp2_N0256.fits\n"
     ]
    },
    {
     "name": "stderr",
     "output_type": "stream",
     "text": [
      "WARNING: AstropyDeprecationWarning: \"clobber\" was deprecated in version 2.0 and will be removed in a future version. Use argument \"overwrite\" instead. [warnings]\n"
     ]
    }
   ],
   "source": [
    "for ls_id in LS_ID:\n",
    "    for ls_od in LS_OD:\n",
    "        \n",
    "        #filename key for struts or no struts\n",
    "        if ls_spid:\n",
    "            strut_key = 'struts'\n",
    "        else:\n",
    "            strut_key = 'no_struts'\n",
    "    \n",
    "        if ls_spid:\n",
    "            ls_filename  = 'LS_LUVOIR_ID{0:04d}_OD{1:04d}_{2:s}_pad{3:02d}_{4:s}_ovsamp{5:d}_N{6:04d}.fits'.format(int(ls_id*1000),\n",
    "                                                                                                int(ls_od*1000), \\\n",
    "                                                                                                strut_key, spid_ov,\\\n",
    "                                                                                                edge, oversamp, N)\n",
    "        else:\n",
    "            ls_filename  = 'LS_LUVOIR_ID{0:04d}_OD{1:04d}_{2:s}_{3:s}_ovsamp{4:d}_N{5:04d}.fits'.format(int(ls_id*1000), \\\n",
    "                                                                                                int(ls_od*1000), \\\n",
    "                                                                                                strut_key, edge, \\\n",
    "                                                                                                oversamp, N)\n",
    "\n",
    "        LUVOIR_ls,ls_header = make_luvoir_a_lyot_stop(normalized=True, with_spiders=ls_spid, spider_oversize=spid_ov,\n",
    "                                                      inner_diameter_fraction=ls_id, outer_diameter_fraction=ls_od, \n",
    "                                                      return_header=True)\n",
    "        lyot_stop = evaluate_supersampled(LUVOIR_ls, grid, oversamp)\n",
    "    \n",
    "        hdr = fits.Header()\n",
    "        ls_header['OVERSAMP'] = oversamp\n",
    "        ls_header['EDGE']     = edge\n",
    "        ls_header['D_INSC']   = pupil_diameter_inscribed\n",
    "    \n",
    "        hdr = fits.Header()\n",
    "        hdr.set('TELESCOP', ls_header['TELESCOP'])\n",
    "        hdr.set('D_CIRC', ls_header['D_CIRC'],'m: circumscribed diameter')\n",
    "        hdr.set('D_INSC', ls_header['D_INSC'],'m: inscribed diameter')\n",
    "        hdr.set('LS_REF_D',ls_header['LS_REF_D'],'m: used to reference given LS id and od')\n",
    "    \n",
    "        hdr.set('LS_ID', ls_header['LS_ID'], 'LS inner d, fraction of LS_REF_D')\n",
    "        hdr.set('LS_OD', ls_header['LS_OD'], 'LS outer d, fraction of LS_REF_D')\n",
    "    \n",
    "        if ls_spid:\n",
    "            hdr.set('STRUT_W',ls_header['STRUT_W'],'m: actual support strut width')\n",
    "            hdr.set('STRUT_ST',ls_header['STRUT_ST'],'m: lower spider starting point d from center')\n",
    "            hdr.set('STRUT_AN',ls_header['STRUT_AN'],'deg: angle lower spiders offset from vertical')\n",
    "            hdr.set('STRUT_P',ls_header['STRUT_P'], 'spider padding factor')\n",
    "   \n",
    "        hdr.set('NORM',ls_header['NORM'],'normalization keyword, OD scaled to 1 by Dcirc')\n",
    "        hdr.set('EDGE',ls_header['EDGE'],'black and white, or grey pixels')\n",
    "        hdr.set('OVERSAMP',ls_header['OVERSAMP'],'oversampling factor, # grey levels')\n",
    "    \n",
    "        fits.writeto(filepath+ls_filename, lyot_stop.shaped, hdr, clobber=True)\n",
    "    \n",
    "        print(filepath+ls_filename)\n"
   ]
  },
  {
   "cell_type": "markdown",
   "metadata": {},
   "source": [
    "### Plot aperture and lyot stop"
   ]
  },
  {
   "cell_type": "code",
   "execution_count": 9,
   "metadata": {},
   "outputs": [
    {
     "data": {
      "image/png": "[encoded data removed]",
      "text/plain": [
       "<Figure size 432x288 with 1 Axes>"
      ]
     },
     "metadata": {
      "needs_background": "light"
     },
     "output_type": "display_data"
    }
   ],
   "source": [
    "plt.figure()\n",
    "plt.title('aperture')\n",
    "imshow_field(pupil)\n",
    "plt.show()"
   ]
  },
  {
   "cell_type": "code",
   "execution_count": 10,
   "metadata": {},
   "outputs": [
    {
     "data": {
      "image/png": "[encoded data removed]",
      "text/plain": [
       "<Figure size 432x288 with 1 Axes>"
      ]
     },
     "metadata": {
      "needs_background": "light"
     },
     "output_type": "display_data"
    }
   ],
   "source": [
    "plt.figure()\n",
    "plt.title('Test LUVOIR LS')\n",
    "imshow_field(lyot_stop)\n",
    "plt.show()"
   ]
  },
  {
   "cell_type": "code",
   "execution_count": 11,
   "metadata": {},
   "outputs": [
    {
     "data": {
      "image/png": "[encoded data removed]",
      "text/plain": [
       "<Figure size 432x288 with 1 Axes>"
      ]
     },
     "metadata": {
      "needs_background": "light"
     },
     "output_type": "display_data"
    }
   ],
   "source": [
    "plt.figure()\n",
    "plt.title('Test LUVOIR pupil - LS')\n",
    "imshow_field(pupil-lyot_stop)\n",
    "plt.show()"
   ]
  },
  {
   "cell_type": "markdown",
   "metadata": {},
   "source": [
    "[Top of page](#top)"
   ]
  }
 ],
 "metadata": {
  "kernelspec": {
   "display_name": "Python 3",
   "language": "python",
   "name": "python3"
  },
  "language_info": {
   "codemirror_mode": {
    "name": "ipython",
    "version": 3
   },
   "file_extension": ".py",
   "mimetype": "text/x-python",
   "name": "python",
   "nbconvert_exporter": "python",
   "pygments_lexer": "ipython3",
   "version": "3.7.7"
  }
 },
 "nbformat": 4,
 "nbformat_minor": 2
}
