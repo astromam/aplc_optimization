{
 "cells": [
  {
   "cell_type": "markdown",
   "metadata": {},
   "source": [
    "## Package imports"
   ]
  },
  {
   "cell_type": "code",
   "execution_count": 1,
   "metadata": {},
   "outputs": [],
   "source": [
    "#%matplotlib qt\n",
    "%matplotlib inline\n",
    "from hcipy import *\n",
    "import numpy as np\n",
    "import matplotlib.pyplot as plt\n",
    "from astropy.io import fits"
   ]
  },
  {
   "cell_type": "code",
   "execution_count": 22,
   "metadata": {},
   "outputs": [],
   "source": [
    "from hcipy import *\n",
    "N = 1000\n",
    "grid = make_pupil_grid(N)\n",
    "N = 1000    # number of pixels in input (TelAP, LS) and final (apodizer) arrays\n",
    "oversamp = 4    # oversampling factor (number of grey levels) - if set to 1 will return a bw pupil, for grey set to > 1\n",
    "pupil_diameter = 15.0 #m: actual LUVOIR A circumscribed pupil diameter\n",
    "pupil_inscribed = 13.5 #m: actual LUVOIR A inscribed pupil diameter\n",
    "# Aperture parameters\n",
    "gap_padding = 1 # arbitary padding of gap size to represent gaps on smaller arrays\n",
    "                # effectively makes the larger gaps larger and the segments smaller to preserve the same segment pitch\n",
    "\n",
    "# Lyot stop parameters\n",
    "lyot_ref_diameter = pupil_inscribed # diameter used to reference the LS inner and outer diameter against\n",
    "ls_spid = False# whether to include secondary support mirror structure in the aperture\n",
    "ls_spid_ov = 2     # factor by which to oversize the spiders compared to the LUVOIR-A aperture spiders\n",
    "ls_id = 0.12    # LS inner diameter(s) as a fraction of `lyot_ref_diameter`\n",
    "ls_od = 0.982   # LS outer diameter as a fraction of `lyot_ref_diameter`\n",
    "\n",
    "LUVOIR_ls, ls_header = make_luvoir_a_lyot_stop(inner_diameter_fraction=ls_id, outer_diameter_fraction=ls_od, spider_oversize=ls_spid_ov, with_spiders=ls_spid, return_header=True)\n",
    "                ### previously make_luvour_a_lyot_stop(ls_id, ls_od, lyot_ref_diam, spid_oversize=ls_spid_ov, spiders=LS_SPID, header = True)\n",
    "lyot_stop = evaluate_supersampled(LUVOIR_ls, grid, oversamp)\n",
    "\n",
    "LUVOIR_ls = make_luvoir_a_lyot_stop()\n",
    "lyot_stop = evaluate_supersampled(LUVOIR_ls, grid, 4)"
   ]
  },
  {
   "cell_type": "code",
   "execution_count": 20,
   "metadata": {},
   "outputs": [
    {
     "data": {
      "text/plain": [
       "<matplotlib.image.AxesImage at 0x7fefb0c30fd0>"
      ]
     },
     "execution_count": 20,
     "metadata": {},
     "output_type": "execute_result"
    },
    {
     "data": {
      "image/png": "[encoded data removed]",
      "text/plain": [
       "<Figure size 432x288 with 1 Axes>"
      ]
     },
     "metadata": {
      "needs_background": "light"
     },
     "output_type": "display_data"
    }
   ],
   "source": [
    "plt.imshow(lyot_stop.shaped)"
   ]
  },
  {
   "cell_type": "markdown",
   "metadata": {},
   "source": [
    "## Parameters"
   ]
  },
  {
   "cell_type": "code",
   "execution_count": 23,
   "metadata": {},
   "outputs": [],
   "source": [
    "filepath = '../masks/LUVOIR/'\n",
    "N        = 972 #Number of pixels in aperture, lyot stop, apodizer array\n",
    "oversamp = 2   #oversampling factor in evaluate_supersampled [hcipy/field/util.py]. \n",
    "                   #If set to 1 returns bw pupil. For gray set to > 1, nominally set to 4 (4 grey levels)"
   ]
  },
  {
   "cell_type": "markdown",
   "metadata": {},
   "source": [
    "### Aperture parameters"
   ]
  },
  {
   "cell_type": "code",
   "execution_count": 24,
   "metadata": {},
   "outputs": [],
   "source": [
    "gap_padding  = 5   #arbitratry padding of gap size to represent gaps on smaller arrays \n",
    "                   #effectively makes the gaps larger and the segments smaller to preserve \n",
    "                   #the same segment pitch        \n"
   ]
  },
  {
   "cell_type": "code",
   "execution_count": 31,
   "metadata": {},
   "outputs": [],
   "source": [
    "#black and white or grey pixels\n",
    "if oversamp == 1:\n",
    "    edge = 'bw'\n",
    "elif oversamp > 1:\n",
    "    edge = 'gy'"
   ]
  },
  {
   "cell_type": "markdown",
   "metadata": {},
   "source": [
    "### Lyot Stop parameters"
   ]
  },
  {
   "cell_type": "code",
   "execution_count": 36,
   "metadata": {},
   "outputs": [],
   "source": [
    "lyot_ref_diam            = pupil_diameter_inscribed = 13.5 #diameter used to reference LS id and od against\n",
    "ls_spid                  = False     #flag for inclusion (1) or exclusion (0) of struts in lyot stop\n",
    "spid_ov                  = 2"
   ]
  },
  {
   "cell_type": "code",
   "execution_count": 28,
   "metadata": {},
   "outputs": [],
   "source": [
    "LS_ID = [0.19]  #lyot stop inner diameter(s), relative to inscribed circle, \n",
    "                #re-normalized against circumscribed pupil in LS gen function\n",
    "    \n",
    "LS_OD = [0.937] #lyot stop outer diameter, relative to inscribed circle, \n",
    "                #re-normalized against circumscribed pupil in LS gen function"
   ]
  },
  {
   "cell_type": "markdown",
   "metadata": {},
   "source": [
    "### Filepath and Filenames"
   ]
  },
  {
   "cell_type": "markdown",
   "metadata": {},
   "source": [
    "### Construct aperture, write to fits"
   ]
  },
  {
   "cell_type": "code",
   "execution_count": 29,
   "metadata": {},
   "outputs": [],
   "source": [
    "#LUVOIR_ap = make_luvoir_a_aperture(gap_padding)"
   ]
  },
  {
   "cell_type": "code",
   "execution_count": 37,
   "metadata": {},
   "outputs": [
    {
     "name": "stdout",
     "output_type": "stream",
     "text": [
      "../masks/LUVOIR/TelAp_LUVOIR_gap_pad05_gy_ovsamp02_N0972.fits\n"
     ]
    },
    {
     "name": "stderr",
     "output_type": "stream",
     "text": [
      "WARNING: AstropyDeprecationWarning: \"clobber\" was deprecated in version 2.0 and will be removed in a future version. Use argument \"overwrite\" instead. [warnings]\n"
     ]
    }
   ],
   "source": [
    "\n",
    "pup_filename = 'TelAp_LUVOIR_gap_pad{0:02d}_{1:s}_ovsamp{2:02d}_N{3:04d}.fits'.format(gap_padding, \\\n",
    "                                                                                      edge,oversamp,N)\n",
    "\n",
    "grid                        = make_pupil_grid(N)\n",
    "LUVOIR_ap, aperture_header  = make_luvoir_a_aperture(gap_padding, return_header = True)\n",
    "pupil                       = evaluate_supersampled(LUVOIR_ap,grid,oversamp)\n",
    "\n",
    "aperture_header['OVERSAMP'] = oversamp\n",
    "aperture_header['EDGE']     = edge\n",
    "aperture_header['D_INSC']   = pupil_diameter_inscribed\n",
    "aperture_header['EFF_GAP']  = aperture_header['GAP_PAD']*aperture_header['SEG_GAP']\n",
    "\n",
    "hdr = fits.Header()\n",
    "hdr.set('TELESCOP', aperture_header['TELESCOP'])\n",
    "hdr.set('D_CIRC', aperture_header['D_CIRC'],'m: circumscribed diameter')\n",
    "hdr.set('D_INSC', aperture_header['D_INSC'],'m: inscribed diameter')\n",
    "hdr.set('SEG_F2F',aperture_header['SEG_F2F_D'],'m: actual segment flat-to-flat diameter')\n",
    "hdr.set('SEG_GAP',aperture_header['SEG_GAP'],'m: actual gap size between segments')\n",
    "hdr.set('GAP_PAD',aperture_header['GAP_PAD'],'arbitratry padding of gap for small arrays')\n",
    "hdr.set('EFF_GAP',aperture_header['EFF_GAP'],'m: effective gap size after padding')\n",
    "hdr.set('STRUT_W',aperture_header['STRUT_W'],'m: actual support strut width')\n",
    "hdr.set('STRUT_ST',aperture_header['STRUT_ST'],'m: lower spider starting point d from center')\n",
    "hdr.set('STRUT_AN',aperture_header['STRUT_AN'],'deg: angle lower spiders offset from vertical')\n",
    "hdr.set('NORM',aperture_header['NORM'],'normalization keyword, OD scaled to 1 by Dcirc')\n",
    "hdr.set('SEG_TRAN',aperture_header['SEG_TRAN'],'The transmission for each of the segments')\n",
    "hdr.set('EDGE',aperture_header['EDGE'],'black and white, or grey pixels')\n",
    "hdr.set('OVERSAMP',aperture_header['OVERSAMP'],'oversampling factor, # grey levels')\n",
    "hdr.set('PROV',aperture_header['PROV'])\n",
    "\n",
    "fits.writeto(filepath+pup_filename, pupil.shaped, hdr,clobber=True)\n",
    "print(filepath+pup_filename)\n"
   ]
  },
  {
   "cell_type": "markdown",
   "metadata": {},
   "source": [
    "### Construct lyot stop(s), write to fits"
   ]
  },
  {
   "cell_type": "code",
   "execution_count": 54,
   "metadata": {},
   "outputs": [
    {
     "name": "stdout",
     "output_type": "stream",
     "text": [
      "../masks/LUVOIR/LS_LUVOIR_ID0190_OD0937_no_struts_gy_ovsamp2_N0972.fits\n"
     ]
    },
    {
     "name": "stderr",
     "output_type": "stream",
     "text": [
      "WARNING: AstropyDeprecationWarning: \"clobber\" was deprecated in version 2.0 and will be removed in a future version. Use argument \"overwrite\" instead. [warnings]\n"
     ]
    }
   ],
   "source": [
    "for ls_id in LS_ID:\n",
    "    for ls_od in LS_OD:\n",
    "        \n",
    "        #filename key for struts or no struts\n",
    "        if ls_spid:\n",
    "            strut_key = 'struts'\n",
    "        else:\n",
    "            strut_key = 'no_struts'\n",
    "    \n",
    "        if ls_spid:\n",
    "            ls_filename  = 'LS_LUVOIR_ID{0:04d}_OD{1:04d}_{2:s}_pad{3:02d}_{4:s}_ovsamp{5:d}_N{6:04d}.fits'.format(int(ls_id*1000),\n",
    "                                                                                                int(ls_od*1000), \\\n",
    "                                                                                                strut_key, spid_ov,\\\n",
    "                                                                                                edge, oversamp, N)\n",
    "        else:\n",
    "            ls_filename  = 'LS_LUVOIR_ID{0:04d}_OD{1:04d}_{2:s}_{3:s}_ovsamp{4:d}_N{5:04d}.fits'.format(int(ls_id*1000), \\\n",
    "                                                                                                int(ls_od*1000), \\\n",
    "                                                                                                strut_key, edge, \\\n",
    "                                                                                                oversamp, N)\n",
    "\n",
    "        LUVOIR_ls,ls_header = make_luvoir_a_lyot_stop(return_header=True)\n",
    "        lyot_stop = evaluate_supersampled(LUVOIR_ls, grid, oversamp)\n",
    "    \n",
    "        hdr = fits.Header()\n",
    "        ls_header['OVERSAMP'] = oversamp\n",
    "        ls_header['EDGE']     = edge\n",
    "        ls_header['D_INSC']   = pupil_diameter_inscribed\n",
    "    \n",
    "        hdr = fits.Header()\n",
    "        hdr.set('TELESCOP', ls_header['TELESCOP'])\n",
    "        hdr.set('D_CIRC', ls_header['D_CIRC'],'m: circumscribed diameter')\n",
    "        hdr.set('D_INSC', ls_header['D_INSC'],'m: inscribed diameter')\n",
    "        hdr.set('LS_REF_D',ls_header['LS_REF_D'],'m: used to reference given LS id and od')\n",
    "    \n",
    "        hdr.set('LS_ID', ls_header['LS_ID'], 'LS inner d, fraction of LS_REF_D')\n",
    "        hdr.set('LS_OD', ls_header['LS_OD'], 'LS outer d, fraction of LS_REF_D')\n",
    "    \n",
    "        if ls_spid:\n",
    "            hdr.set('STRUT_W',ls_header['STRUT_W'],'m: actual support strut width')\n",
    "            hdr.set('STRUT_ST',ls_header['STRUT_ST'],'m: lower spider starting point d from center')\n",
    "            hdr.set('STRUT_AN',ls_header['STRUT_AN'],'deg: angle lower spiders offset from vertical')\n",
    "            hdr.set('STRUT_P',ls_header['STRUT_P'], 'spider padding factor')\n",
    "   \n",
    "        hdr.set('NORM',ls_header['NORM'],'normalization keyword, OD scaled to 1 by Dcirc')\n",
    "        hdr.set('EDGE',ls_header['EDGE'],'black and white, or grey pixels')\n",
    "        hdr.set('OVERSAMP',ls_header['OVERSAMP'],'oversampling factor, # grey levels')\n",
    "    \n",
    "        fits.writeto(filepath+ls_filename, lyot_stop.shaped, hdr, clobber=True)\n",
    "    \n",
    "        print(filepath+ls_filename)\n"
   ]
  },
  {
   "cell_type": "markdown",
   "metadata": {},
   "source": [
    "### Plot aperture and lyot stop"
   ]
  },
  {
   "cell_type": "code",
   "execution_count": 50,
   "metadata": {},
   "outputs": [
    {
     "data": {
      "image/png": "[encoded data removed]",
      "text/plain": [
       "<Figure size 432x288 with 1 Axes>"
      ]
     },
     "metadata": {
      "needs_background": "light"
     },
     "output_type": "display_data"
    }
   ],
   "source": [
    "plt.figure()\n",
    "plt.title('aperture')\n",
    "imshow_field(pupil)\n",
    "plt.show()"
   ]
  },
  {
   "cell_type": "code",
   "execution_count": 56,
   "metadata": {},
   "outputs": [
    {
     "data": {
      "image/png": "[encoded data removed]",
      "text/plain": [
       "<Figure size 432x288 with 1 Axes>"
      ]
     },
     "metadata": {
      "needs_background": "light"
     },
     "output_type": "display_data"
    }
   ],
   "source": [
    "plt.figure()\n",
    "plt.title('Test LUVOIR LS')\n",
    "imshow_field(lyot_stop)\n",
    "plt.show()"
   ]
  },
  {
   "cell_type": "code",
   "execution_count": 52,
   "metadata": {},
   "outputs": [
    {
     "data": {
      "image/png": "[encoded data removed]",
      "text/plain": [
       "<Figure size 432x288 with 1 Axes>"
      ]
     },
     "metadata": {
      "needs_background": "light"
     },
     "output_type": "display_data"
    }
   ],
   "source": [
    "plt.figure()\n",
    "plt.title('Test LUVOIR pupil - LS')\n",
    "imshow_field(pupil-lyot_stop)\n",
    "plt.show()"
   ]
  },
  {
   "cell_type": "code",
   "execution_count": 132,
   "metadata": {},
   "outputs": [
    {
     "data": {
      "text/plain": [
       "<matplotlib.image.NonUniformImage at 0x7fef90a80c10>"
      ]
     },
     "execution_count": 132,
     "metadata": {},
     "output_type": "execute_result"
    },
    {
     "data": {
      "image/png": "[encoded data removed]",
      "text/plain": [
       "<Figure size 432x288 with 1 Axes>"
      ]
     },
     "metadata": {
      "needs_background": "light"
     },
     "output_type": "display_data"
    }
   ],
   "source": [
    "pupil_diameter = 15.0  # m actual circumscribed diameter, used for lam/D calculations, other measurements normalized by this diameter\n",
    "pupil_diameter_inscribed = 13.5\n",
    "spider_width = 0.150  # m actual strut size\n",
    "lower_spider_angle = 12.7  # deg angle at which lower spiders are offset from vertical\n",
    "spid_start = 0.30657  # m spider starting point offset from center of aperture\n",
    "\n",
    "outer_D = lyot_reference_diameter * outer_diameter_fraction #re-normalize the LS OD against circumscribed pupil diameter\n",
    "inner_D = lyot_reference_diameter * inner_diameter_fraction #re-normalize the LS ID against circumscribed pupil diameter\n",
    "pad_spid_width = spider_width * spider_oversize\n",
    "\n",
    "lyot_reference_diameter = pupil_diameter\n",
    "\n",
    "outer_diameter = circular_aperture(outer_D)\n",
    "central_obscuration = circular_aperture(inner_D)\n",
    "with_spiders = False\n",
    "\n",
    "if with_spiders:\n",
    "    spider1 = make_spider_infinite([0, 0], 90, pad_spid_width)\n",
    "    spider2 = make_spider_infinite([spid_start, 0], 270 - lower_spider_angle, pad_spid_width)\n",
    "    spider3 = make_spider_infinite([-spid_start, 0], 270 + lower_spider_angle, pad_spid_width)\n",
    "\n",
    "def aper(grid):\n",
    "    outer_diameter = circular_aperture(outer_D)(grid)\n",
    "    central_obscuration = circular_aperture(inner_D)(grid)\n",
    "    \n",
    "    result = outer_diameter - central_obscuration\n",
    "\n",
    "    if with_spiders:\n",
    "        result *= spider1(grid) * spider2(grid) * spider3(grid)\n",
    "\n",
    "    return result\n",
    "\n",
    "lyot_stop = evaluate_supersampled(aper, grid, oversamp)\n",
    "imshow_field(lyot_stop)"
   ]
  },
  {
   "cell_type": "code",
   "execution_count": 63,
   "metadata": {},
   "outputs": [],
   "source": [
    "spider_oversize = 2     # factor by which to oversize the spiders compared to the LUVOIR-A aperture spiders\n",
    "inner_diameter_fraction = 0.12    # LS inner diameter(s) as a fraction of `lyot_ref_diameter`\n",
    "outer_diameter_fraction = 0.982   # LS outer diameter as a fraction of `lyot_ref_diameter`\n",
    "\n",
    "pupil_diameter = 15.0  # m actual circumscribed diameter, used for lam/D calculations, other measurements normalized by this diameter\n",
    "pupil_diameter_inscribed = 13.5\n",
    "spider_width = 0.150  # m actual strut size\n",
    "lower_spider_angle = 12.7  # deg angle at which lower spiders are offset from vertical\n",
    "spid_start = 0.30657  # m spider starting point offset from center of aperture\n",
    "\n",
    "lyot_reference_diameter = pupil_diameter \n",
    "\n",
    "outer_D = lyot_reference_diameter * outer_diameter_fraction #re-normalize the LS OD against circumscribed pupil diameter\n",
    "inner_D = lyot_reference_diameter * inner_diameter_fraction #re-normalize the LS ID against circumscribed pupil diameter\n",
    "pad_spid_width = spider_width * spider_oversize"
   ]
  },
  {
   "cell_type": "code",
   "execution_count": 65,
   "metadata": {},
   "outputs": [],
   "source": [
    "outer_diameter = circular_aperture(outer_D)\n",
    "central_obscuration = circular_aperture(inner_D)"
   ]
  },
  {
   "cell_type": "code",
   "execution_count": 119,
   "metadata": {},
   "outputs": [],
   "source": [
    "obs_ap = make_obstructed_circular_aperture(pupil_diameter, central_obscuration_ratio=0.982, num_spiders=0, spider_width=0.01)"
   ]
  },
  {
   "cell_type": "code",
   "execution_count": 69,
   "metadata": {},
   "outputs": [
    {
     "data": {
      "text/plain": [
       "14.73"
      ]
     },
     "execution_count": 69,
     "metadata": {},
     "output_type": "execute_result"
    }
   ],
   "source": [
    "outer_D"
   ]
  },
  {
   "cell_type": "code",
   "execution_count": 71,
   "metadata": {},
   "outputs": [
    {
     "ename": "AttributeError",
     "evalue": "'function' object has no attribute 'grid'",
     "output_type": "error",
     "traceback": [
      "\u001b[0;31m---------------------------------------------------------------------------\u001b[0m",
      "\u001b[0;31mAttributeError\u001b[0m                            Traceback (most recent call last)",
      "\u001b[0;32m<ipython-input-71-5da9b57ad27a>\u001b[0m in \u001b[0;36m<module>\u001b[0;34m\u001b[0m\n\u001b[0;32m----> 1\u001b[0;31m \u001b[0mimshow_field\u001b[0m\u001b[0;34m(\u001b[0m\u001b[0mouter_diameter\u001b[0m\u001b[0;34m)\u001b[0m\u001b[0;34m\u001b[0m\u001b[0;34m\u001b[0m\u001b[0m\n\u001b[0m",
      "\u001b[0;32m~/miniconda3/envs/aplc-optimization/lib/python3.7/site-packages/hcipy/plotting/field.py\u001b[0m in \u001b[0;36mimshow_field\u001b[0;34m(field, grid, ax, vmin, vmax, aspect, norm, interpolation, non_linear_axes, cmap, mask, mask_color, grid_units, *args, **kwargs)\u001b[0m\n\u001b[1;32m     73\u001b[0m         \u001b[0;32mif\u001b[0m \u001b[0mgrid\u001b[0m \u001b[0;32mis\u001b[0m \u001b[0;32mNone\u001b[0m\u001b[0;34m:\u001b[0m\u001b[0;34m\u001b[0m\u001b[0;34m\u001b[0m\u001b[0m\n\u001b[1;32m     74\u001b[0m                 \u001b[0;32mif\u001b[0m \u001b[0mnp\u001b[0m\u001b[0;34m.\u001b[0m\u001b[0mallclose\u001b[0m\u001b[0;34m(\u001b[0m\u001b[0mgrid_units\u001b[0m\u001b[0;34m,\u001b[0m \u001b[0;36m1\u001b[0m\u001b[0;34m)\u001b[0m\u001b[0;34m:\u001b[0m\u001b[0;34m\u001b[0m\u001b[0;34m\u001b[0m\u001b[0m\n\u001b[0;32m---> 75\u001b[0;31m                         \u001b[0mgrid\u001b[0m \u001b[0;34m=\u001b[0m \u001b[0mfield\u001b[0m\u001b[0;34m.\u001b[0m\u001b[0mgrid\u001b[0m\u001b[0;34m\u001b[0m\u001b[0;34m\u001b[0m\u001b[0m\n\u001b[0m\u001b[1;32m     76\u001b[0m                 \u001b[0;32melse\u001b[0m\u001b[0;34m:\u001b[0m\u001b[0;34m\u001b[0m\u001b[0;34m\u001b[0m\u001b[0m\n\u001b[1;32m     77\u001b[0m                         \u001b[0mgrid\u001b[0m \u001b[0;34m=\u001b[0m \u001b[0mfield\u001b[0m\u001b[0;34m.\u001b[0m\u001b[0mgrid\u001b[0m\u001b[0;34m.\u001b[0m\u001b[0mscaled\u001b[0m\u001b[0;34m(\u001b[0m\u001b[0;36m1.0\u001b[0m \u001b[0;34m/\u001b[0m \u001b[0mgrid_units\u001b[0m\u001b[0;34m)\u001b[0m\u001b[0;34m\u001b[0m\u001b[0;34m\u001b[0m\u001b[0m\n",
      "\u001b[0;31mAttributeError\u001b[0m: 'function' object has no attribute 'grid'"
     ]
    },
    {
     "data": {
      "image/png": "[encoded data removed]",
      "text/plain": [
       "<Figure size 432x288 with 1 Axes>"
      ]
     },
     "metadata": {
      "needs_background": "light"
     },
     "output_type": "display_data"
    }
   ],
   "source": [
    "imshow_field(outer_diameter)"
   ]
  },
  {
   "cell_type": "code",
   "execution_count": 73,
   "metadata": {},
   "outputs": [],
   "source": [
    "\n",
    "spider1 = make_spider_infinite([0, 0], 90, pad_spid_width)\n",
    "spider2 = make_spider_infinite([spid_start, 0], 270 - lower_spider_angle, pad_spid_width)\n",
    "spider3 = make_spider_infinite([-spid_start, 0], 270 + lower_spider_angle, pad_spid_width)\n",
    "\n",
    "def aper(grid):\n",
    "    result = outer_diameter(grid) - central_obscuration(grid)\n",
    "\n",
    "    if with_spiders:\n",
    "        result *= spider1(grid) * spider2(grid) * spider3(grid)\n",
    "\n",
    "    return result"
   ]
  },
  {
   "cell_type": "code",
   "execution_count": 88,
   "metadata": {},
   "outputs": [
    {
     "ename": "NameError",
     "evalue": "name 'inner_diameter' is not defined",
     "output_type": "error",
     "traceback": [
      "\u001b[0;31m---------------------------------------------------------------------------\u001b[0m",
      "\u001b[0;31mNameError\u001b[0m                                 Traceback (most recent call last)",
      "\u001b[0;32m<ipython-input-88-703160cc0539>\u001b[0m in \u001b[0;36m<module>\u001b[0;34m\u001b[0m\n\u001b[0;32m----> 1\u001b[0;31m \u001b[0minner_diameter\u001b[0m\u001b[0;34m\u001b[0m\u001b[0;34m\u001b[0m\u001b[0m\n\u001b[0m",
      "\u001b[0;31mNameError\u001b[0m: name 'inner_diameter' is not defined"
     ]
    }
   ],
   "source": [
    "inner_diameter"
   ]
  },
  {
   "cell_type": "code",
   "execution_count": 81,
   "metadata": {},
   "outputs": [
    {
     "ename": "NameError",
     "evalue": "name 'with_spiders' is not defined",
     "output_type": "error",
     "traceback": [
      "\u001b[0;31m---------------------------------------------------------------------------\u001b[0m",
      "\u001b[0;31mNameError\u001b[0m                                 Traceback (most recent call last)",
      "\u001b[0;32m<ipython-input-81-b678ed53a46e>\u001b[0m in \u001b[0;36m<module>\u001b[0;34m\u001b[0m\n\u001b[0;32m----> 1\u001b[0;31m \u001b[0mlyot_stop\u001b[0m \u001b[0;34m=\u001b[0m \u001b[0mevaluate_supersampled\u001b[0m\u001b[0;34m(\u001b[0m\u001b[0maper\u001b[0m\u001b[0;34m,\u001b[0m \u001b[0mgrid\u001b[0m\u001b[0;34m,\u001b[0m \u001b[0moversamp\u001b[0m\u001b[0;34m)\u001b[0m\u001b[0;34m\u001b[0m\u001b[0;34m\u001b[0m\u001b[0m\n\u001b[0m",
      "\u001b[0;32m~/miniconda3/envs/aplc-optimization/lib/python3.7/site-packages/hcipy/field/util.py\u001b[0m in \u001b[0;36mevaluate_supersampled\u001b[0;34m(field_generator, grid, oversampling, statistic, make_sparse)\u001b[0m\n\u001b[1;32m    481\u001b[0m \u001b[0;34m\u001b[0m\u001b[0m\n\u001b[1;32m    482\u001b[0m                         \u001b[0;32mif\u001b[0m \u001b[0mstatistic\u001b[0m \u001b[0;32min\u001b[0m \u001b[0;34m[\u001b[0m\u001b[0;34m'mean'\u001b[0m\u001b[0;34m,\u001b[0m \u001b[0;34m'sum'\u001b[0m\u001b[0;34m]\u001b[0m\u001b[0;34m:\u001b[0m\u001b[0;34m\u001b[0m\u001b[0;34m\u001b[0m\u001b[0m\n\u001b[0;32m--> 483\u001b[0;31m                                 \u001b[0mfield\u001b[0m \u001b[0;34m+=\u001b[0m \u001b[0mfield_generator\u001b[0m\u001b[0;34m(\u001b[0m\u001b[0mdithered_grid\u001b[0m\u001b[0;34m)\u001b[0m\u001b[0;34m\u001b[0m\u001b[0;34m\u001b[0m\u001b[0m\n\u001b[0m\u001b[1;32m    484\u001b[0m                         \u001b[0;32melse\u001b[0m\u001b[0;34m:\u001b[0m\u001b[0;34m\u001b[0m\u001b[0;34m\u001b[0m\u001b[0m\n\u001b[1;32m    485\u001b[0m                                 \u001b[0;32mif\u001b[0m \u001b[0mfield\u001b[0m \u001b[0;32mis\u001b[0m \u001b[0;32mNone\u001b[0m\u001b[0;34m:\u001b[0m\u001b[0;34m\u001b[0m\u001b[0;34m\u001b[0m\u001b[0m\n",
      "\u001b[0;32m<ipython-input-73-e602a81f37f6>\u001b[0m in \u001b[0;36maper\u001b[0;34m(grid)\u001b[0m\n\u001b[1;32m      6\u001b[0m     \u001b[0mresult\u001b[0m \u001b[0;34m=\u001b[0m \u001b[0mouter_diameter\u001b[0m\u001b[0;34m(\u001b[0m\u001b[0mgrid\u001b[0m\u001b[0;34m)\u001b[0m \u001b[0;34m-\u001b[0m \u001b[0mcentral_obscuration\u001b[0m\u001b[0;34m(\u001b[0m\u001b[0mgrid\u001b[0m\u001b[0;34m)\u001b[0m\u001b[0;34m\u001b[0m\u001b[0;34m\u001b[0m\u001b[0m\n\u001b[1;32m      7\u001b[0m \u001b[0;34m\u001b[0m\u001b[0m\n\u001b[0;32m----> 8\u001b[0;31m     \u001b[0;32mif\u001b[0m \u001b[0mwith_spiders\u001b[0m\u001b[0;34m:\u001b[0m\u001b[0;34m\u001b[0m\u001b[0;34m\u001b[0m\u001b[0m\n\u001b[0m\u001b[1;32m      9\u001b[0m         \u001b[0mresult\u001b[0m \u001b[0;34m*=\u001b[0m \u001b[0mspider1\u001b[0m\u001b[0;34m(\u001b[0m\u001b[0mgrid\u001b[0m\u001b[0;34m)\u001b[0m \u001b[0;34m*\u001b[0m \u001b[0mspider2\u001b[0m\u001b[0;34m(\u001b[0m\u001b[0mgrid\u001b[0m\u001b[0;34m)\u001b[0m \u001b[0;34m*\u001b[0m \u001b[0mspider3\u001b[0m\u001b[0;34m(\u001b[0m\u001b[0mgrid\u001b[0m\u001b[0;34m)\u001b[0m\u001b[0;34m\u001b[0m\u001b[0;34m\u001b[0m\u001b[0m\n\u001b[1;32m     10\u001b[0m \u001b[0;34m\u001b[0m\u001b[0m\n",
      "\u001b[0;31mNameError\u001b[0m: name 'with_spiders' is not defined"
     ]
    }
   ],
   "source": [
    "lyot_stop = evaluate_supersampled(LUVOIR_ls, grid, oversamp)"
   ]
  },
  {
   "cell_type": "code",
   "execution_count": 121,
   "metadata": {},
   "outputs": [],
   "source": [
    "obs_ls = evaluate_supersampled(obs_ap, grid, oversamp)"
   ]
  },
  {
   "cell_type": "code",
   "execution_count": 122,
   "metadata": {},
   "outputs": [
    {
     "data": {
      "text/plain": [
       "<matplotlib.image.NonUniformImage at 0x7fef704b6c50>"
      ]
     },
     "execution_count": 122,
     "metadata": {},
     "output_type": "execute_result"
    },
    {
     "data": {
      "image/png": "[encoded data removed]",
      "text/plain": [
       "<Figure size 432x288 with 1 Axes>"
      ]
     },
     "metadata": {
      "needs_background": "light"
     },
     "output_type": "display_data"
    }
   ],
   "source": [
    "imshow_field(obs_ls)"
   ]
  },
  {
   "cell_type": "code",
   "execution_count": 90,
   "metadata": {},
   "outputs": [
    {
     "ename": "AttributeError",
     "evalue": "'function' object has no attribute 'grid'",
     "output_type": "error",
     "traceback": [
      "\u001b[0;31m---------------------------------------------------------------------------\u001b[0m",
      "\u001b[0;31mAttributeError\u001b[0m                            Traceback (most recent call last)",
      "\u001b[0;32m<ipython-input-90-4b75de23aab6>\u001b[0m in \u001b[0;36m<module>\u001b[0;34m\u001b[0m\n\u001b[0;32m----> 1\u001b[0;31m \u001b[0mimshow_field\u001b[0m\u001b[0;34m(\u001b[0m\u001b[0mcentral_obscuration\u001b[0m\u001b[0;34m)\u001b[0m\u001b[0;34m\u001b[0m\u001b[0;34m\u001b[0m\u001b[0m\n\u001b[0m",
      "\u001b[0;32m~/miniconda3/envs/aplc-optimization/lib/python3.7/site-packages/hcipy/plotting/field.py\u001b[0m in \u001b[0;36mimshow_field\u001b[0;34m(field, grid, ax, vmin, vmax, aspect, norm, interpolation, non_linear_axes, cmap, mask, mask_color, grid_units, *args, **kwargs)\u001b[0m\n\u001b[1;32m     73\u001b[0m         \u001b[0;32mif\u001b[0m \u001b[0mgrid\u001b[0m \u001b[0;32mis\u001b[0m \u001b[0;32mNone\u001b[0m\u001b[0;34m:\u001b[0m\u001b[0;34m\u001b[0m\u001b[0;34m\u001b[0m\u001b[0m\n\u001b[1;32m     74\u001b[0m                 \u001b[0;32mif\u001b[0m \u001b[0mnp\u001b[0m\u001b[0;34m.\u001b[0m\u001b[0mallclose\u001b[0m\u001b[0;34m(\u001b[0m\u001b[0mgrid_units\u001b[0m\u001b[0;34m,\u001b[0m \u001b[0;36m1\u001b[0m\u001b[0;34m)\u001b[0m\u001b[0;34m:\u001b[0m\u001b[0;34m\u001b[0m\u001b[0;34m\u001b[0m\u001b[0m\n\u001b[0;32m---> 75\u001b[0;31m                         \u001b[0mgrid\u001b[0m \u001b[0;34m=\u001b[0m \u001b[0mfield\u001b[0m\u001b[0;34m.\u001b[0m\u001b[0mgrid\u001b[0m\u001b[0;34m\u001b[0m\u001b[0;34m\u001b[0m\u001b[0m\n\u001b[0m\u001b[1;32m     76\u001b[0m                 \u001b[0;32melse\u001b[0m\u001b[0;34m:\u001b[0m\u001b[0;34m\u001b[0m\u001b[0;34m\u001b[0m\u001b[0m\n\u001b[1;32m     77\u001b[0m                         \u001b[0mgrid\u001b[0m \u001b[0;34m=\u001b[0m \u001b[0mfield\u001b[0m\u001b[0;34m.\u001b[0m\u001b[0mgrid\u001b[0m\u001b[0;34m.\u001b[0m\u001b[0mscaled\u001b[0m\u001b[0;34m(\u001b[0m\u001b[0;36m1.0\u001b[0m \u001b[0;34m/\u001b[0m \u001b[0mgrid_units\u001b[0m\u001b[0;34m)\u001b[0m\u001b[0;34m\u001b[0m\u001b[0;34m\u001b[0m\u001b[0m\n",
      "\u001b[0;31mAttributeError\u001b[0m: 'function' object has no attribute 'grid'"
     ]
    },
    {
     "data": {
      "image/png": "[encoded data removed]",
      "text/plain": [
       "<Figure size 432x288 with 1 Axes>"
      ]
     },
     "metadata": {
      "needs_background": "light"
     },
     "output_type": "display_data"
    }
   ],
   "source": [
    "imshow_field(central_obscuration)"
   ]
  },
  {
   "cell_type": "code",
   "execution_count": 91,
   "metadata": {},
   "outputs": [],
   "source": [
    "grid = make_pupil_grid(N)"
   ]
  },
  {
   "cell_type": "code",
   "execution_count": 94,
   "metadata": {},
   "outputs": [
    {
     "data": {
      "text/plain": [
       "<hcipy.field.cartesian_grid.CartesianGrid at 0x7fef83ef0410>"
      ]
     },
     "execution_count": 94,
     "metadata": {},
     "output_type": "execute_result"
    }
   ],
   "source": [
    "grid"
   ]
  },
  {
   "cell_type": "code",
   "execution_count": 97,
   "metadata": {},
   "outputs": [
    {
     "data": {
      "text/plain": [
       "<matplotlib.image.NonUniformImage at 0x7fef6265d950>"
      ]
     },
     "execution_count": 97,
     "metadata": {},
     "output_type": "execute_result"
    },
    {
     "data": {
      "image/png": "[encoded data removed]",
      "text/plain": [
       "<Figure size 432x288 with 1 Axes>"
      ]
     },
     "metadata": {
      "needs_background": "light"
     },
     "output_type": "display_data"
    }
   ],
   "source": [
    "imshow_field(central_obscuration(grid))"
   ]
  },
  {
   "cell_type": "code",
   "execution_count": 98,
   "metadata": {},
   "outputs": [],
   "source": [
    "outer_diameter = circular_aperture(outer_D)"
   ]
  },
  {
   "cell_type": "code",
   "execution_count": 101,
   "metadata": {},
   "outputs": [
    {
     "data": {
      "text/plain": [
       "<matplotlib.image.NonUniformImage at 0x7fef7057fe50>"
      ]
     },
     "execution_count": 101,
     "metadata": {},
     "output_type": "execute_result"
    },
    {
     "data": {
      "image/png": "[encoded data removed]",
      "text/plain": [
       "<Figure size 432x288 with 1 Axes>"
      ]
     },
     "metadata": {
      "needs_background": "light"
     },
     "output_type": "display_data"
    }
   ],
   "source": [
    "imshow_field(outer_diameter(grid))"
   ]
  },
  {
   "cell_type": "code",
   "execution_count": 103,
   "metadata": {},
   "outputs": [
    {
     "data": {
      "text/plain": [
       "Field([0., 0., 0., ..., 0., 0., 0.])"
      ]
     },
     "execution_count": 103,
     "metadata": {},
     "output_type": "execute_result"
    }
   ],
   "source": [
    "circular_aperture(0.3)(grid)"
   ]
  },
  {
   "cell_type": "code",
   "execution_count": 148,
   "metadata": {},
   "outputs": [],
   "source": [
    "pupil_diameter = 3e-3 # meter\n",
    "wavelength = 500e-9 # meter\n",
    "\n",
    "pupil_grid = make_pupil_grid(256, 1.2 * pupil_diameter)\n",
    "aperture_circ = evaluate_supersampled(make_obstructed_circular_aperture(pupil_diameter, 0.2, num_spiders=1), pupil_grid, 8)\n",
    "\n",
    "aperture_luvoir = evaluate_supersampled(make_luvoir_a_aperture(True), pupil_grid.scaled(1 / pupil_diameter), 8)\n",
    "aperture_luvoir.grid = pupil_grid\n",
    "\n",
    "wf_circ = Wavefront(aperture_circ, wavelength)\n",
    "wf_luvoir = Wavefront(aperture_luvoir, wavelength)"
   ]
  },
  {
   "cell_type": "code",
   "execution_count": 149,
   "metadata": {},
   "outputs": [
    {
     "data": {
      "image/png": "[encoded data removed]",
      "text/plain": [
       "<Figure size 432x288 with 2 Axes>"
      ]
     },
     "metadata": {
      "needs_background": "light"
     },
     "output_type": "display_data"
    }
   ],
   "source": [
    "def double_plot(a, b, title='', xlabel='', ylabel='', **kwargs):\n",
    "    '''A function to nicely show two fields side-to-side.\n",
    "    '''\n",
    "    fig, axes = plt.subplots(1, 2, gridspec_kw={'left': 0.14, 'right': 0.98, 'top': 0.95, 'bottom': 0.07, 'wspace': 0.02})\n",
    "    fig.suptitle(title)\n",
    "    imshow_field(a, **kwargs, ax=axes[0])\n",
    "    imshow_field(b, **kwargs, ax=axes[1])\n",
    "\n",
    "    axes[1].yaxis.set_ticks([])\n",
    "    axes[0].set_xlabel(xlabel)\n",
    "    axes[1].set_xlabel(xlabel)\n",
    "    axes[0].set_ylabel(ylabel)\n",
    "\n",
    "    return fig\n",
    "\n",
    "double_plot(aperture_circ, aperture_luvoir,\n",
    "            xlabel='x [mm]', ylabel='y [mm]',\n",
    "            grid_units=1e-3, cmap='gray')\n",
    "plt.show()"
   ]
  },
  {
   "cell_type": "code",
   "execution_count": null,
   "metadata": {},
   "outputs": [],
   "source": []
  }
 ],
 "metadata": {
  "kernelspec": {
   "display_name": "Python 3",
   "language": "python",
   "name": "python3"
  },
  "language_info": {
   "codemirror_mode": {
    "name": "ipython",
    "version": 3
   },
   "file_extension": ".py",
   "mimetype": "text/x-python",
   "name": "python",
   "nbconvert_exporter": "python",
   "pygments_lexer": "ipython3",
   "version": "3.7.7"
  }
 },
 "nbformat": 4,
 "nbformat_minor": 2
}
